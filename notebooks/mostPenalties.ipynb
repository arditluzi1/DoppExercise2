{
 "cells": [
  {
   "cell_type": "code",
   "execution_count": 1,
   "id": "bb49ea6e",
   "metadata": {
    "execution": {
     "iopub.execute_input": "2021-09-06T13:19:46.788847Z",
     "iopub.status.busy": "2021-09-06T13:19:46.787857Z",
     "iopub.status.idle": "2021-09-06T13:19:46.790146Z",
     "shell.execute_reply": "2021-09-06T13:19:46.790652Z",
     "shell.execute_reply.started": "2021-09-06T13:17:22.684683Z"
    },
    "papermill": {
     "duration": 0.051982,
     "end_time": "2021-09-06T13:19:46.790933",
     "exception": false,
     "start_time": "2021-09-06T13:19:46.738951",
     "status": "completed"
    },
    "tags": []
   },
   "outputs": [],
   "source": [
    "import pandas as pd\n",
    "import numpy as np\n",
    "import matplotlib.pyplot as plt\n",
    "import sqlite3\n",
    "%matplotlib inline"
   ]
  },
  {
   "cell_type": "code",
   "execution_count": 5,
   "id": "c0840f0c",
   "metadata": {
    "execution": {
     "iopub.execute_input": "2021-09-06T13:19:46.935210Z",
     "iopub.status.busy": "2021-09-06T13:19:46.934197Z",
     "iopub.status.idle": "2021-09-06T13:19:46.946734Z",
     "shell.execute_reply": "2021-09-06T13:19:46.946183Z",
     "shell.execute_reply.started": "2021-09-06T13:17:50.785455Z"
    },
    "papermill": {
     "duration": 0.051787,
     "end_time": "2021-09-06T13:19:46.946874",
     "exception": false,
     "start_time": "2021-09-06T13:19:46.895087",
     "status": "completed"
    },
    "tags": []
   },
   "outputs": [],
   "source": [
    "import os\n",
    "for dirname, _, filenames in os.walk('/Users/luzi/Desktop/doppEx2/database.sqlite'):\n",
    "    for filename in filenames:\n",
    "        print(os.path.join(dirname, filename))"
   ]
  },
  {
   "cell_type": "code",
   "execution_count": 7,
   "id": "a85d251f",
   "metadata": {
    "execution": {
     "iopub.execute_input": "2021-09-06T13:19:47.024290Z",
     "iopub.status.busy": "2021-09-06T13:19:47.023678Z",
     "iopub.status.idle": "2021-09-06T13:19:52.147258Z",
     "shell.execute_reply": "2021-09-06T13:19:52.146738Z",
     "shell.execute_reply.started": "2021-09-06T13:18:15.076312Z"
    },
    "papermill": {
     "duration": 5.164912,
     "end_time": "2021-09-06T13:19:52.147422",
     "exception": false,
     "start_time": "2021-09-06T13:19:46.982510",
     "status": "completed"
    },
    "tags": []
   },
   "outputs": [
    {
     "data": {
      "text/html": [
       "<div>\n",
       "<style scoped>\n",
       "    .dataframe tbody tr th:only-of-type {\n",
       "        vertical-align: middle;\n",
       "    }\n",
       "\n",
       "    .dataframe tbody tr th {\n",
       "        vertical-align: top;\n",
       "    }\n",
       "\n",
       "    .dataframe thead th {\n",
       "        text-align: right;\n",
       "    }\n",
       "</style>\n",
       "<table border=\"1\" class=\"dataframe\">\n",
       "  <thead>\n",
       "    <tr style=\"text-align: right;\">\n",
       "      <th></th>\n",
       "      <th>id</th>\n",
       "      <th>player_fifa_api_id</th>\n",
       "      <th>player_api_id</th>\n",
       "      <th>date</th>\n",
       "      <th>overall_rating</th>\n",
       "      <th>potential</th>\n",
       "      <th>preferred_foot</th>\n",
       "      <th>attacking_work_rate</th>\n",
       "      <th>defensive_work_rate</th>\n",
       "      <th>crossing</th>\n",
       "      <th>...</th>\n",
       "      <th>vision</th>\n",
       "      <th>penalties</th>\n",
       "      <th>marking</th>\n",
       "      <th>standing_tackle</th>\n",
       "      <th>sliding_tackle</th>\n",
       "      <th>gk_diving</th>\n",
       "      <th>gk_handling</th>\n",
       "      <th>gk_kicking</th>\n",
       "      <th>gk_positioning</th>\n",
       "      <th>gk_reflexes</th>\n",
       "    </tr>\n",
       "  </thead>\n",
       "  <tbody>\n",
       "    <tr>\n",
       "      <th>0</th>\n",
       "      <td>1</td>\n",
       "      <td>218353</td>\n",
       "      <td>505942</td>\n",
       "      <td>2016-02-18 00:00:00</td>\n",
       "      <td>67.0</td>\n",
       "      <td>71.0</td>\n",
       "      <td>right</td>\n",
       "      <td>medium</td>\n",
       "      <td>medium</td>\n",
       "      <td>49.0</td>\n",
       "      <td>...</td>\n",
       "      <td>54.0</td>\n",
       "      <td>48.0</td>\n",
       "      <td>65.0</td>\n",
       "      <td>69.0</td>\n",
       "      <td>69.0</td>\n",
       "      <td>6.0</td>\n",
       "      <td>11.0</td>\n",
       "      <td>10.0</td>\n",
       "      <td>8.0</td>\n",
       "      <td>8.0</td>\n",
       "    </tr>\n",
       "    <tr>\n",
       "      <th>1</th>\n",
       "      <td>2</td>\n",
       "      <td>218353</td>\n",
       "      <td>505942</td>\n",
       "      <td>2015-11-19 00:00:00</td>\n",
       "      <td>67.0</td>\n",
       "      <td>71.0</td>\n",
       "      <td>right</td>\n",
       "      <td>medium</td>\n",
       "      <td>medium</td>\n",
       "      <td>49.0</td>\n",
       "      <td>...</td>\n",
       "      <td>54.0</td>\n",
       "      <td>48.0</td>\n",
       "      <td>65.0</td>\n",
       "      <td>69.0</td>\n",
       "      <td>69.0</td>\n",
       "      <td>6.0</td>\n",
       "      <td>11.0</td>\n",
       "      <td>10.0</td>\n",
       "      <td>8.0</td>\n",
       "      <td>8.0</td>\n",
       "    </tr>\n",
       "    <tr>\n",
       "      <th>2</th>\n",
       "      <td>3</td>\n",
       "      <td>218353</td>\n",
       "      <td>505942</td>\n",
       "      <td>2015-09-21 00:00:00</td>\n",
       "      <td>62.0</td>\n",
       "      <td>66.0</td>\n",
       "      <td>right</td>\n",
       "      <td>medium</td>\n",
       "      <td>medium</td>\n",
       "      <td>49.0</td>\n",
       "      <td>...</td>\n",
       "      <td>54.0</td>\n",
       "      <td>48.0</td>\n",
       "      <td>65.0</td>\n",
       "      <td>66.0</td>\n",
       "      <td>69.0</td>\n",
       "      <td>6.0</td>\n",
       "      <td>11.0</td>\n",
       "      <td>10.0</td>\n",
       "      <td>8.0</td>\n",
       "      <td>8.0</td>\n",
       "    </tr>\n",
       "    <tr>\n",
       "      <th>3</th>\n",
       "      <td>4</td>\n",
       "      <td>218353</td>\n",
       "      <td>505942</td>\n",
       "      <td>2015-03-20 00:00:00</td>\n",
       "      <td>61.0</td>\n",
       "      <td>65.0</td>\n",
       "      <td>right</td>\n",
       "      <td>medium</td>\n",
       "      <td>medium</td>\n",
       "      <td>48.0</td>\n",
       "      <td>...</td>\n",
       "      <td>53.0</td>\n",
       "      <td>47.0</td>\n",
       "      <td>62.0</td>\n",
       "      <td>63.0</td>\n",
       "      <td>66.0</td>\n",
       "      <td>5.0</td>\n",
       "      <td>10.0</td>\n",
       "      <td>9.0</td>\n",
       "      <td>7.0</td>\n",
       "      <td>7.0</td>\n",
       "    </tr>\n",
       "    <tr>\n",
       "      <th>4</th>\n",
       "      <td>5</td>\n",
       "      <td>218353</td>\n",
       "      <td>505942</td>\n",
       "      <td>2007-02-22 00:00:00</td>\n",
       "      <td>61.0</td>\n",
       "      <td>65.0</td>\n",
       "      <td>right</td>\n",
       "      <td>medium</td>\n",
       "      <td>medium</td>\n",
       "      <td>48.0</td>\n",
       "      <td>...</td>\n",
       "      <td>53.0</td>\n",
       "      <td>47.0</td>\n",
       "      <td>62.0</td>\n",
       "      <td>63.0</td>\n",
       "      <td>66.0</td>\n",
       "      <td>5.0</td>\n",
       "      <td>10.0</td>\n",
       "      <td>9.0</td>\n",
       "      <td>7.0</td>\n",
       "      <td>7.0</td>\n",
       "    </tr>\n",
       "  </tbody>\n",
       "</table>\n",
       "<p>5 rows × 42 columns</p>\n",
       "</div>"
      ],
      "text/plain": [
       "   id  player_fifa_api_id  player_api_id                 date  overall_rating  \\\n",
       "0   1              218353         505942  2016-02-18 00:00:00            67.0   \n",
       "1   2              218353         505942  2015-11-19 00:00:00            67.0   \n",
       "2   3              218353         505942  2015-09-21 00:00:00            62.0   \n",
       "3   4              218353         505942  2015-03-20 00:00:00            61.0   \n",
       "4   5              218353         505942  2007-02-22 00:00:00            61.0   \n",
       "\n",
       "   potential preferred_foot attacking_work_rate defensive_work_rate  crossing  \\\n",
       "0       71.0          right              medium              medium      49.0   \n",
       "1       71.0          right              medium              medium      49.0   \n",
       "2       66.0          right              medium              medium      49.0   \n",
       "3       65.0          right              medium              medium      48.0   \n",
       "4       65.0          right              medium              medium      48.0   \n",
       "\n",
       "   ...  vision  penalties  marking  standing_tackle  sliding_tackle  \\\n",
       "0  ...    54.0       48.0     65.0             69.0            69.0   \n",
       "1  ...    54.0       48.0     65.0             69.0            69.0   \n",
       "2  ...    54.0       48.0     65.0             66.0            69.0   \n",
       "3  ...    53.0       47.0     62.0             63.0            66.0   \n",
       "4  ...    53.0       47.0     62.0             63.0            66.0   \n",
       "\n",
       "   gk_diving  gk_handling  gk_kicking  gk_positioning  gk_reflexes  \n",
       "0        6.0         11.0        10.0             8.0          8.0  \n",
       "1        6.0         11.0        10.0             8.0          8.0  \n",
       "2        6.0         11.0        10.0             8.0          8.0  \n",
       "3        5.0         10.0         9.0             7.0          7.0  \n",
       "4        5.0         10.0         9.0             7.0          7.0  \n",
       "\n",
       "[5 rows x 42 columns]"
      ]
     },
     "execution_count": 7,
     "metadata": {},
     "output_type": "execute_result"
    }
   ],
   "source": [
    "# Load your data and print out a few lines. Perform operations to inspect data\n",
    "#   types and look for instances of missing or possibly errant data.\n",
    "#load frist table of (player attributes)\n",
    "db= sqlite3.connect('/Users/luzi/Desktop/doppEx2/database.sqlite')\n",
    "df=pd.read_sql('SELECT * FROM player_attributes',db)\n",
    "df.head()"
   ]
  },
  {
   "cell_type": "code",
   "execution_count": 9,
   "id": "72db70e5",
   "metadata": {
    "execution": {
     "iopub.execute_input": "2021-09-06T13:19:52.224689Z",
     "iopub.status.busy": "2021-09-06T13:19:52.223942Z",
     "iopub.status.idle": "2021-09-06T13:19:53.040233Z",
     "shell.execute_reply": "2021-09-06T13:19:53.040782Z",
     "shell.execute_reply.started": "2021-09-06T13:18:27.934287Z"
    },
    "papermill": {
     "duration": 0.857462,
     "end_time": "2021-09-06T13:19:53.040954",
     "exception": false,
     "start_time": "2021-09-06T13:19:52.183492",
     "status": "completed"
    },
    "tags": []
   },
   "outputs": [
    {
     "data": {
      "text/html": [
       "<div>\n",
       "<style scoped>\n",
       "    .dataframe tbody tr th:only-of-type {\n",
       "        vertical-align: middle;\n",
       "    }\n",
       "\n",
       "    .dataframe tbody tr th {\n",
       "        vertical-align: top;\n",
       "    }\n",
       "\n",
       "    .dataframe thead th {\n",
       "        text-align: right;\n",
       "    }\n",
       "</style>\n",
       "<table border=\"1\" class=\"dataframe\">\n",
       "  <thead>\n",
       "    <tr style=\"text-align: right;\">\n",
       "      <th></th>\n",
       "      <th>id</th>\n",
       "      <th>player_api_id</th>\n",
       "      <th>player_name</th>\n",
       "      <th>player_fifa_api_id</th>\n",
       "      <th>birthday</th>\n",
       "      <th>height</th>\n",
       "      <th>weight</th>\n",
       "    </tr>\n",
       "  </thead>\n",
       "  <tbody>\n",
       "    <tr>\n",
       "      <th>0</th>\n",
       "      <td>1</td>\n",
       "      <td>505942</td>\n",
       "      <td>Aaron Appindangoye</td>\n",
       "      <td>218353</td>\n",
       "      <td>1992-02-29 00:00:00</td>\n",
       "      <td>182.88</td>\n",
       "      <td>187</td>\n",
       "    </tr>\n",
       "    <tr>\n",
       "      <th>1</th>\n",
       "      <td>2</td>\n",
       "      <td>155782</td>\n",
       "      <td>Aaron Cresswell</td>\n",
       "      <td>189615</td>\n",
       "      <td>1989-12-15 00:00:00</td>\n",
       "      <td>170.18</td>\n",
       "      <td>146</td>\n",
       "    </tr>\n",
       "    <tr>\n",
       "      <th>2</th>\n",
       "      <td>3</td>\n",
       "      <td>162549</td>\n",
       "      <td>Aaron Doran</td>\n",
       "      <td>186170</td>\n",
       "      <td>1991-05-13 00:00:00</td>\n",
       "      <td>170.18</td>\n",
       "      <td>163</td>\n",
       "    </tr>\n",
       "    <tr>\n",
       "      <th>3</th>\n",
       "      <td>4</td>\n",
       "      <td>30572</td>\n",
       "      <td>Aaron Galindo</td>\n",
       "      <td>140161</td>\n",
       "      <td>1982-05-08 00:00:00</td>\n",
       "      <td>182.88</td>\n",
       "      <td>198</td>\n",
       "    </tr>\n",
       "    <tr>\n",
       "      <th>4</th>\n",
       "      <td>5</td>\n",
       "      <td>23780</td>\n",
       "      <td>Aaron Hughes</td>\n",
       "      <td>17725</td>\n",
       "      <td>1979-11-08 00:00:00</td>\n",
       "      <td>182.88</td>\n",
       "      <td>154</td>\n",
       "    </tr>\n",
       "  </tbody>\n",
       "</table>\n",
       "</div>"
      ],
      "text/plain": [
       "   id  player_api_id         player_name  player_fifa_api_id  \\\n",
       "0   1         505942  Aaron Appindangoye              218353   \n",
       "1   2         155782     Aaron Cresswell              189615   \n",
       "2   3         162549         Aaron Doran              186170   \n",
       "3   4          30572       Aaron Galindo              140161   \n",
       "4   5          23780        Aaron Hughes               17725   \n",
       "\n",
       "              birthday  height  weight  \n",
       "0  1992-02-29 00:00:00  182.88     187  \n",
       "1  1989-12-15 00:00:00  170.18     146  \n",
       "2  1991-05-13 00:00:00  170.18     163  \n",
       "3  1982-05-08 00:00:00  182.88     198  \n",
       "4  1979-11-08 00:00:00  182.88     154  "
      ]
     },
     "execution_count": 9,
     "metadata": {},
     "output_type": "execute_result"
    }
   ],
   "source": [
    "df_player=pd.read_sql('SELECT * FROM player',db)\n",
    "df_player.head()"
   ]
  },
  {
   "cell_type": "code",
   "execution_count": 10,
   "id": "95ef1656",
   "metadata": {
    "execution": {
     "iopub.execute_input": "2021-09-06T13:19:53.119642Z",
     "iopub.status.busy": "2021-09-06T13:19:53.118983Z",
     "iopub.status.idle": "2021-09-06T13:19:53.125848Z",
     "shell.execute_reply": "2021-09-06T13:19:53.125357Z",
     "shell.execute_reply.started": "2021-09-06T13:18:30.756139Z"
    },
    "papermill": {
     "duration": 0.048307,
     "end_time": "2021-09-06T13:19:53.125981",
     "exception": false,
     "start_time": "2021-09-06T13:19:53.077674",
     "status": "completed"
    },
    "tags": []
   },
   "outputs": [
    {
     "data": {
      "text/plain": [
       "(183978, 42)"
      ]
     },
     "execution_count": 10,
     "metadata": {},
     "output_type": "execute_result"
    }
   ],
   "source": [
    "df.shape"
   ]
  },
  {
   "cell_type": "code",
   "execution_count": 11,
   "id": "17254b91",
   "metadata": {
    "execution": {
     "iopub.execute_input": "2021-09-06T13:19:53.207165Z",
     "iopub.status.busy": "2021-09-06T13:19:53.206017Z",
     "iopub.status.idle": "2021-09-06T13:19:53.209200Z",
     "shell.execute_reply": "2021-09-06T13:19:53.209701Z",
     "shell.execute_reply.started": "2021-09-06T13:18:31.929722Z"
    },
    "papermill": {
     "duration": 0.046215,
     "end_time": "2021-09-06T13:19:53.209864",
     "exception": false,
     "start_time": "2021-09-06T13:19:53.163649",
     "status": "completed"
    },
    "tags": []
   },
   "outputs": [
    {
     "data": {
      "text/plain": [
       "(11060, 7)"
      ]
     },
     "execution_count": 11,
     "metadata": {},
     "output_type": "execute_result"
    }
   ],
   "source": [
    "df_player.shape"
   ]
  },
  {
   "cell_type": "code",
   "execution_count": 12,
   "id": "1fa0c564",
   "metadata": {
    "execution": {
     "iopub.execute_input": "2021-09-06T13:19:53.290196Z",
     "iopub.status.busy": "2021-09-06T13:19:53.289579Z",
     "iopub.status.idle": "2021-09-06T13:19:53.401002Z",
     "shell.execute_reply": "2021-09-06T13:19:53.400493Z",
     "shell.execute_reply.started": "2021-09-06T13:18:32.416048Z"
    },
    "papermill": {
     "duration": 0.153918,
     "end_time": "2021-09-06T13:19:53.401142",
     "exception": false,
     "start_time": "2021-09-06T13:19:53.247224",
     "status": "completed"
    },
    "tags": []
   },
   "outputs": [
    {
     "name": "stdout",
     "output_type": "stream",
     "text": [
      "<class 'pandas.core.frame.DataFrame'>\n",
      "RangeIndex: 183978 entries, 0 to 183977\n",
      "Data columns (total 42 columns):\n",
      " #   Column               Non-Null Count   Dtype  \n",
      "---  ------               --------------   -----  \n",
      " 0   id                   183978 non-null  int64  \n",
      " 1   player_fifa_api_id   183978 non-null  int64  \n",
      " 2   player_api_id        183978 non-null  int64  \n",
      " 3   date                 183978 non-null  object \n",
      " 4   overall_rating       183142 non-null  float64\n",
      " 5   potential            183142 non-null  float64\n",
      " 6   preferred_foot       183142 non-null  object \n",
      " 7   attacking_work_rate  180748 non-null  object \n",
      " 8   defensive_work_rate  183142 non-null  object \n",
      " 9   crossing             183142 non-null  float64\n",
      " 10  finishing            183142 non-null  float64\n",
      " 11  heading_accuracy     183142 non-null  float64\n",
      " 12  short_passing        183142 non-null  float64\n",
      " 13  volleys              181265 non-null  float64\n",
      " 14  dribbling            183142 non-null  float64\n",
      " 15  curve                181265 non-null  float64\n",
      " 16  free_kick_accuracy   183142 non-null  float64\n",
      " 17  long_passing         183142 non-null  float64\n",
      " 18  ball_control         183142 non-null  float64\n",
      " 19  acceleration         183142 non-null  float64\n",
      " 20  sprint_speed         183142 non-null  float64\n",
      " 21  agility              181265 non-null  float64\n",
      " 22  reactions            183142 non-null  float64\n",
      " 23  balance              181265 non-null  float64\n",
      " 24  shot_power           183142 non-null  float64\n",
      " 25  jumping              181265 non-null  float64\n",
      " 26  stamina              183142 non-null  float64\n",
      " 27  strength             183142 non-null  float64\n",
      " 28  long_shots           183142 non-null  float64\n",
      " 29  aggression           183142 non-null  float64\n",
      " 30  interceptions        183142 non-null  float64\n",
      " 31  positioning          183142 non-null  float64\n",
      " 32  vision               181265 non-null  float64\n",
      " 33  penalties            183142 non-null  float64\n",
      " 34  marking              183142 non-null  float64\n",
      " 35  standing_tackle      183142 non-null  float64\n",
      " 36  sliding_tackle       181265 non-null  float64\n",
      " 37  gk_diving            183142 non-null  float64\n",
      " 38  gk_handling          183142 non-null  float64\n",
      " 39  gk_kicking           183142 non-null  float64\n",
      " 40  gk_positioning       183142 non-null  float64\n",
      " 41  gk_reflexes          183142 non-null  float64\n",
      "dtypes: float64(35), int64(3), object(4)\n",
      "memory usage: 59.0+ MB\n"
     ]
    }
   ],
   "source": [
    "df.info()"
   ]
  },
  {
   "cell_type": "markdown",
   "id": "4627fa2b",
   "metadata": {
    "papermill": {
     "duration": 0.037152,
     "end_time": "2021-09-06T13:19:53.475836",
     "exception": false,
     "start_time": "2021-09-06T13:19:53.438684",
     "status": "completed"
    },
    "tags": []
   },
   "source": [
    "There is no errant data types , BUT there missing data in several columns"
   ]
  },
  {
   "cell_type": "code",
   "execution_count": 13,
   "id": "ad98c559",
   "metadata": {
    "execution": {
     "iopub.execute_input": "2021-09-06T13:19:53.567009Z",
     "iopub.status.busy": "2021-09-06T13:19:53.558794Z",
     "iopub.status.idle": "2021-09-06T13:19:53.571241Z",
     "shell.execute_reply": "2021-09-06T13:19:53.570686Z",
     "shell.execute_reply.started": "2021-09-06T13:18:33.539159Z"
    },
    "papermill": {
     "duration": 0.057937,
     "end_time": "2021-09-06T13:19:53.571403",
     "exception": false,
     "start_time": "2021-09-06T13:19:53.513466",
     "status": "completed"
    },
    "tags": []
   },
   "outputs": [
    {
     "name": "stdout",
     "output_type": "stream",
     "text": [
      "<class 'pandas.core.frame.DataFrame'>\n",
      "RangeIndex: 11060 entries, 0 to 11059\n",
      "Data columns (total 7 columns):\n",
      " #   Column              Non-Null Count  Dtype  \n",
      "---  ------              --------------  -----  \n",
      " 0   id                  11060 non-null  int64  \n",
      " 1   player_api_id       11060 non-null  int64  \n",
      " 2   player_name         11060 non-null  object \n",
      " 3   player_fifa_api_id  11060 non-null  int64  \n",
      " 4   birthday            11060 non-null  object \n",
      " 5   height              11060 non-null  float64\n",
      " 6   weight              11060 non-null  int64  \n",
      "dtypes: float64(1), int64(4), object(2)\n",
      "memory usage: 605.0+ KB\n"
     ]
    }
   ],
   "source": [
    "df_player.info()"
   ]
  },
  {
   "cell_type": "markdown",
   "id": "1ff939a3",
   "metadata": {
    "papermill": {
     "duration": 0.037648,
     "end_time": "2021-09-06T13:19:53.647945",
     "exception": false,
     "start_time": "2021-09-06T13:19:53.610297",
     "status": "completed"
    },
    "tags": []
   },
   "source": [
    "There is no errant data types and missing data"
   ]
  },
  {
   "cell_type": "code",
   "execution_count": 14,
   "id": "06dcd3f0",
   "metadata": {
    "execution": {
     "iopub.execute_input": "2021-09-06T13:19:53.728046Z",
     "iopub.status.busy": "2021-09-06T13:19:53.727455Z",
     "iopub.status.idle": "2021-09-06T13:19:53.825232Z",
     "shell.execute_reply": "2021-09-06T13:19:53.824647Z",
     "shell.execute_reply.started": "2021-09-06T13:18:34.615902Z"
    },
    "papermill": {
     "duration": 0.139461,
     "end_time": "2021-09-06T13:19:53.825395",
     "exception": false,
     "start_time": "2021-09-06T13:19:53.685934",
     "status": "completed"
    },
    "tags": []
   },
   "outputs": [
    {
     "data": {
      "text/plain": [
       "id                        0\n",
       "player_fifa_api_id        0\n",
       "player_api_id             0\n",
       "date                      0\n",
       "overall_rating          836\n",
       "potential               836\n",
       "preferred_foot          836\n",
       "attacking_work_rate    3230\n",
       "defensive_work_rate     836\n",
       "crossing                836\n",
       "finishing               836\n",
       "heading_accuracy        836\n",
       "short_passing           836\n",
       "volleys                2713\n",
       "dribbling               836\n",
       "curve                  2713\n",
       "free_kick_accuracy      836\n",
       "long_passing            836\n",
       "ball_control            836\n",
       "acceleration            836\n",
       "sprint_speed            836\n",
       "agility                2713\n",
       "reactions               836\n",
       "balance                2713\n",
       "shot_power              836\n",
       "jumping                2713\n",
       "stamina                 836\n",
       "strength                836\n",
       "long_shots              836\n",
       "aggression              836\n",
       "interceptions           836\n",
       "positioning             836\n",
       "vision                 2713\n",
       "penalties               836\n",
       "marking                 836\n",
       "standing_tackle         836\n",
       "sliding_tackle         2713\n",
       "gk_diving               836\n",
       "gk_handling             836\n",
       "gk_kicking              836\n",
       "gk_positioning          836\n",
       "gk_reflexes             836\n",
       "dtype: int64"
      ]
     },
     "execution_count": 14,
     "metadata": {},
     "output_type": "execute_result"
    }
   ],
   "source": [
    "#look for missing data.\n",
    "df.isnull().sum()"
   ]
  },
  {
   "cell_type": "markdown",
   "id": "f57ff44e",
   "metadata": {
    "papermill": {
     "duration": 0.038712,
     "end_time": "2021-09-06T13:19:53.902547",
     "exception": false,
     "start_time": "2021-09-06T13:19:53.863835",
     "status": "completed"
    },
    "tags": []
   },
   "source": [
    "Penalties column data is important for our question\n",
    "There is 836 missing values in penalties column"
   ]
  },
  {
   "cell_type": "code",
   "execution_count": 15,
   "id": "82417a9e",
   "metadata": {
    "execution": {
     "iopub.execute_input": "2021-09-06T13:19:53.984944Z",
     "iopub.status.busy": "2021-09-06T13:19:53.984298Z",
     "iopub.status.idle": "2021-09-06T13:19:54.382522Z",
     "shell.execute_reply": "2021-09-06T13:19:54.383001Z",
     "shell.execute_reply.started": "2021-09-06T13:18:35.564445Z"
    },
    "papermill": {
     "duration": 0.442483,
     "end_time": "2021-09-06T13:19:54.383191",
     "exception": false,
     "start_time": "2021-09-06T13:19:53.940708",
     "status": "completed"
    },
    "tags": []
   },
   "outputs": [
    {
     "data": {
      "text/plain": [
       "0"
      ]
     },
     "execution_count": 15,
     "metadata": {},
     "output_type": "execute_result"
    }
   ],
   "source": [
    "#look for duplicated data.\n",
    "df.duplicated().sum()"
   ]
  },
  {
   "cell_type": "markdown",
   "id": "5ac51a68",
   "metadata": {
    "papermill": {
     "duration": 0.038365,
     "end_time": "2021-09-06T13:19:54.459836",
     "exception": false,
     "start_time": "2021-09-06T13:19:54.421471",
     "status": "completed"
    },
    "tags": []
   },
   "source": [
    "There is no duplicated data"
   ]
  },
  {
   "cell_type": "code",
   "execution_count": 17,
   "id": "762a52b2",
   "metadata": {
    "execution": {
     "iopub.execute_input": "2021-09-06T13:19:54.559229Z",
     "iopub.status.busy": "2021-09-06T13:19:54.540104Z",
     "iopub.status.idle": "2021-09-06T13:19:54.823219Z",
     "shell.execute_reply": "2021-09-06T13:19:54.822708Z",
     "shell.execute_reply.started": "2021-09-06T13:18:36.646439Z"
    },
    "papermill": {
     "duration": 0.325284,
     "end_time": "2021-09-06T13:19:54.823388",
     "exception": false,
     "start_time": "2021-09-06T13:19:54.498104",
     "status": "completed"
    },
    "tags": []
   },
   "outputs": [
    {
     "data": {
      "text/html": [
       "<div>\n",
       "<style scoped>\n",
       "    .dataframe tbody tr th:only-of-type {\n",
       "        vertical-align: middle;\n",
       "    }\n",
       "\n",
       "    .dataframe tbody tr th {\n",
       "        vertical-align: top;\n",
       "    }\n",
       "\n",
       "    .dataframe thead th {\n",
       "        text-align: right;\n",
       "    }\n",
       "</style>\n",
       "<table border=\"1\" class=\"dataframe\">\n",
       "  <thead>\n",
       "    <tr style=\"text-align: right;\">\n",
       "      <th></th>\n",
       "      <th>id</th>\n",
       "      <th>player_fifa_api_id</th>\n",
       "      <th>player_api_id</th>\n",
       "      <th>overall_rating</th>\n",
       "      <th>potential</th>\n",
       "      <th>crossing</th>\n",
       "      <th>finishing</th>\n",
       "      <th>heading_accuracy</th>\n",
       "      <th>short_passing</th>\n",
       "      <th>volleys</th>\n",
       "      <th>...</th>\n",
       "      <th>vision</th>\n",
       "      <th>penalties</th>\n",
       "      <th>marking</th>\n",
       "      <th>standing_tackle</th>\n",
       "      <th>sliding_tackle</th>\n",
       "      <th>gk_diving</th>\n",
       "      <th>gk_handling</th>\n",
       "      <th>gk_kicking</th>\n",
       "      <th>gk_positioning</th>\n",
       "      <th>gk_reflexes</th>\n",
       "    </tr>\n",
       "  </thead>\n",
       "  <tbody>\n",
       "    <tr>\n",
       "      <th>count</th>\n",
       "      <td>183978.00000</td>\n",
       "      <td>183978.000000</td>\n",
       "      <td>183978.000000</td>\n",
       "      <td>183142.000000</td>\n",
       "      <td>183142.000000</td>\n",
       "      <td>183142.000000</td>\n",
       "      <td>183142.000000</td>\n",
       "      <td>183142.000000</td>\n",
       "      <td>183142.000000</td>\n",
       "      <td>181265.000000</td>\n",
       "      <td>...</td>\n",
       "      <td>181265.000000</td>\n",
       "      <td>183142.000000</td>\n",
       "      <td>183142.000000</td>\n",
       "      <td>183142.000000</td>\n",
       "      <td>181265.000000</td>\n",
       "      <td>183142.000000</td>\n",
       "      <td>183142.000000</td>\n",
       "      <td>183142.000000</td>\n",
       "      <td>183142.000000</td>\n",
       "      <td>183142.000000</td>\n",
       "    </tr>\n",
       "    <tr>\n",
       "      <th>mean</th>\n",
       "      <td>91989.50000</td>\n",
       "      <td>165671.524291</td>\n",
       "      <td>135900.617324</td>\n",
       "      <td>68.600015</td>\n",
       "      <td>73.460353</td>\n",
       "      <td>55.086883</td>\n",
       "      <td>49.921078</td>\n",
       "      <td>57.266023</td>\n",
       "      <td>62.429672</td>\n",
       "      <td>49.468436</td>\n",
       "      <td>...</td>\n",
       "      <td>57.873550</td>\n",
       "      <td>55.003986</td>\n",
       "      <td>46.772242</td>\n",
       "      <td>50.351257</td>\n",
       "      <td>48.001462</td>\n",
       "      <td>14.704393</td>\n",
       "      <td>16.063612</td>\n",
       "      <td>20.998362</td>\n",
       "      <td>16.132154</td>\n",
       "      <td>16.441439</td>\n",
       "    </tr>\n",
       "    <tr>\n",
       "      <th>std</th>\n",
       "      <td>53110.01825</td>\n",
       "      <td>53851.094769</td>\n",
       "      <td>136927.840510</td>\n",
       "      <td>7.041139</td>\n",
       "      <td>6.592271</td>\n",
       "      <td>17.242135</td>\n",
       "      <td>19.038705</td>\n",
       "      <td>16.488905</td>\n",
       "      <td>14.194068</td>\n",
       "      <td>18.256618</td>\n",
       "      <td>...</td>\n",
       "      <td>15.144086</td>\n",
       "      <td>15.546519</td>\n",
       "      <td>21.227667</td>\n",
       "      <td>21.483706</td>\n",
       "      <td>21.598778</td>\n",
       "      <td>16.865467</td>\n",
       "      <td>15.867382</td>\n",
       "      <td>21.452980</td>\n",
       "      <td>16.099175</td>\n",
       "      <td>17.198155</td>\n",
       "    </tr>\n",
       "    <tr>\n",
       "      <th>min</th>\n",
       "      <td>1.00000</td>\n",
       "      <td>2.000000</td>\n",
       "      <td>2625.000000</td>\n",
       "      <td>33.000000</td>\n",
       "      <td>39.000000</td>\n",
       "      <td>1.000000</td>\n",
       "      <td>1.000000</td>\n",
       "      <td>1.000000</td>\n",
       "      <td>3.000000</td>\n",
       "      <td>1.000000</td>\n",
       "      <td>...</td>\n",
       "      <td>1.000000</td>\n",
       "      <td>2.000000</td>\n",
       "      <td>1.000000</td>\n",
       "      <td>1.000000</td>\n",
       "      <td>2.000000</td>\n",
       "      <td>1.000000</td>\n",
       "      <td>1.000000</td>\n",
       "      <td>1.000000</td>\n",
       "      <td>1.000000</td>\n",
       "      <td>1.000000</td>\n",
       "    </tr>\n",
       "    <tr>\n",
       "      <th>25%</th>\n",
       "      <td>45995.25000</td>\n",
       "      <td>155798.000000</td>\n",
       "      <td>34763.000000</td>\n",
       "      <td>64.000000</td>\n",
       "      <td>69.000000</td>\n",
       "      <td>45.000000</td>\n",
       "      <td>34.000000</td>\n",
       "      <td>49.000000</td>\n",
       "      <td>57.000000</td>\n",
       "      <td>35.000000</td>\n",
       "      <td>...</td>\n",
       "      <td>49.000000</td>\n",
       "      <td>45.000000</td>\n",
       "      <td>25.000000</td>\n",
       "      <td>29.000000</td>\n",
       "      <td>25.000000</td>\n",
       "      <td>7.000000</td>\n",
       "      <td>8.000000</td>\n",
       "      <td>8.000000</td>\n",
       "      <td>8.000000</td>\n",
       "      <td>8.000000</td>\n",
       "    </tr>\n",
       "    <tr>\n",
       "      <th>50%</th>\n",
       "      <td>91989.50000</td>\n",
       "      <td>183488.000000</td>\n",
       "      <td>77741.000000</td>\n",
       "      <td>69.000000</td>\n",
       "      <td>74.000000</td>\n",
       "      <td>59.000000</td>\n",
       "      <td>53.000000</td>\n",
       "      <td>60.000000</td>\n",
       "      <td>65.000000</td>\n",
       "      <td>52.000000</td>\n",
       "      <td>...</td>\n",
       "      <td>60.000000</td>\n",
       "      <td>57.000000</td>\n",
       "      <td>50.000000</td>\n",
       "      <td>56.000000</td>\n",
       "      <td>53.000000</td>\n",
       "      <td>10.000000</td>\n",
       "      <td>11.000000</td>\n",
       "      <td>12.000000</td>\n",
       "      <td>11.000000</td>\n",
       "      <td>11.000000</td>\n",
       "    </tr>\n",
       "    <tr>\n",
       "      <th>75%</th>\n",
       "      <td>137983.75000</td>\n",
       "      <td>199848.000000</td>\n",
       "      <td>191080.000000</td>\n",
       "      <td>73.000000</td>\n",
       "      <td>78.000000</td>\n",
       "      <td>68.000000</td>\n",
       "      <td>65.000000</td>\n",
       "      <td>68.000000</td>\n",
       "      <td>72.000000</td>\n",
       "      <td>64.000000</td>\n",
       "      <td>...</td>\n",
       "      <td>69.000000</td>\n",
       "      <td>67.000000</td>\n",
       "      <td>66.000000</td>\n",
       "      <td>69.000000</td>\n",
       "      <td>67.000000</td>\n",
       "      <td>13.000000</td>\n",
       "      <td>15.000000</td>\n",
       "      <td>15.000000</td>\n",
       "      <td>15.000000</td>\n",
       "      <td>15.000000</td>\n",
       "    </tr>\n",
       "    <tr>\n",
       "      <th>max</th>\n",
       "      <td>183978.00000</td>\n",
       "      <td>234141.000000</td>\n",
       "      <td>750584.000000</td>\n",
       "      <td>94.000000</td>\n",
       "      <td>97.000000</td>\n",
       "      <td>95.000000</td>\n",
       "      <td>97.000000</td>\n",
       "      <td>98.000000</td>\n",
       "      <td>97.000000</td>\n",
       "      <td>93.000000</td>\n",
       "      <td>...</td>\n",
       "      <td>97.000000</td>\n",
       "      <td>96.000000</td>\n",
       "      <td>96.000000</td>\n",
       "      <td>95.000000</td>\n",
       "      <td>95.000000</td>\n",
       "      <td>94.000000</td>\n",
       "      <td>93.000000</td>\n",
       "      <td>97.000000</td>\n",
       "      <td>96.000000</td>\n",
       "      <td>96.000000</td>\n",
       "    </tr>\n",
       "  </tbody>\n",
       "</table>\n",
       "<p>8 rows × 38 columns</p>\n",
       "</div>"
      ],
      "text/plain": [
       "                 id  player_fifa_api_id  player_api_id  overall_rating  \\\n",
       "count  183978.00000       183978.000000  183978.000000   183142.000000   \n",
       "mean    91989.50000       165671.524291  135900.617324       68.600015   \n",
       "std     53110.01825        53851.094769  136927.840510        7.041139   \n",
       "min         1.00000            2.000000    2625.000000       33.000000   \n",
       "25%     45995.25000       155798.000000   34763.000000       64.000000   \n",
       "50%     91989.50000       183488.000000   77741.000000       69.000000   \n",
       "75%    137983.75000       199848.000000  191080.000000       73.000000   \n",
       "max    183978.00000       234141.000000  750584.000000       94.000000   \n",
       "\n",
       "           potential       crossing      finishing  heading_accuracy  \\\n",
       "count  183142.000000  183142.000000  183142.000000     183142.000000   \n",
       "mean       73.460353      55.086883      49.921078         57.266023   \n",
       "std         6.592271      17.242135      19.038705         16.488905   \n",
       "min        39.000000       1.000000       1.000000          1.000000   \n",
       "25%        69.000000      45.000000      34.000000         49.000000   \n",
       "50%        74.000000      59.000000      53.000000         60.000000   \n",
       "75%        78.000000      68.000000      65.000000         68.000000   \n",
       "max        97.000000      95.000000      97.000000         98.000000   \n",
       "\n",
       "       short_passing        volleys  ...         vision      penalties  \\\n",
       "count  183142.000000  181265.000000  ...  181265.000000  183142.000000   \n",
       "mean       62.429672      49.468436  ...      57.873550      55.003986   \n",
       "std        14.194068      18.256618  ...      15.144086      15.546519   \n",
       "min         3.000000       1.000000  ...       1.000000       2.000000   \n",
       "25%        57.000000      35.000000  ...      49.000000      45.000000   \n",
       "50%        65.000000      52.000000  ...      60.000000      57.000000   \n",
       "75%        72.000000      64.000000  ...      69.000000      67.000000   \n",
       "max        97.000000      93.000000  ...      97.000000      96.000000   \n",
       "\n",
       "             marking  standing_tackle  sliding_tackle      gk_diving  \\\n",
       "count  183142.000000    183142.000000   181265.000000  183142.000000   \n",
       "mean       46.772242        50.351257       48.001462      14.704393   \n",
       "std        21.227667        21.483706       21.598778      16.865467   \n",
       "min         1.000000         1.000000        2.000000       1.000000   \n",
       "25%        25.000000        29.000000       25.000000       7.000000   \n",
       "50%        50.000000        56.000000       53.000000      10.000000   \n",
       "75%        66.000000        69.000000       67.000000      13.000000   \n",
       "max        96.000000        95.000000       95.000000      94.000000   \n",
       "\n",
       "         gk_handling     gk_kicking  gk_positioning    gk_reflexes  \n",
       "count  183142.000000  183142.000000   183142.000000  183142.000000  \n",
       "mean       16.063612      20.998362       16.132154      16.441439  \n",
       "std        15.867382      21.452980       16.099175      17.198155  \n",
       "min         1.000000       1.000000        1.000000       1.000000  \n",
       "25%         8.000000       8.000000        8.000000       8.000000  \n",
       "50%        11.000000      12.000000       11.000000      11.000000  \n",
       "75%        15.000000      15.000000       15.000000      15.000000  \n",
       "max        93.000000      97.000000       96.000000      96.000000  \n",
       "\n",
       "[8 rows x 38 columns]"
      ]
     },
     "execution_count": 17,
     "metadata": {},
     "output_type": "execute_result"
    }
   ],
   "source": [
    "\n",
    "df.describe()"
   ]
  },
  {
   "cell_type": "markdown",
   "id": "374e7558",
   "metadata": {
    "papermill": {
     "duration": 0.039292,
     "end_time": "2021-09-06T13:19:54.901698",
     "exception": false,
     "start_time": "2021-09-06T13:19:54.862406",
     "status": "completed"
    },
    "tags": []
   },
   "source": [
    "Penalties column data is important for our question\n",
    "Mean penalties for players is 55\n",
    "Maximum penalties for players is 96"
   ]
  },
  {
   "cell_type": "code",
   "execution_count": 18,
   "id": "e748db6b",
   "metadata": {
    "execution": {
     "iopub.execute_input": "2021-09-06T13:19:55.143063Z",
     "iopub.status.busy": "2021-09-06T13:19:55.142118Z",
     "iopub.status.idle": "2021-09-06T13:19:55.147152Z",
     "shell.execute_reply": "2021-09-06T13:19:55.146660Z",
     "shell.execute_reply.started": "2021-09-06T13:18:38.430531Z"
    },
    "papermill": {
     "duration": 0.049402,
     "end_time": "2021-09-06T13:19:55.147292",
     "exception": false,
     "start_time": "2021-09-06T13:19:55.097890",
     "status": "completed"
    },
    "tags": []
   },
   "outputs": [],
   "source": [
    "df['penalties']= df['penalties'].fillna(0)"
   ]
  },
  {
   "cell_type": "markdown",
   "id": "73740ac6",
   "metadata": {
    "papermill": {
     "duration": 0.038727,
     "end_time": "2021-09-06T13:19:55.225095",
     "exception": false,
     "start_time": "2021-09-06T13:19:55.186368",
     "status": "completed"
    },
    "tags": []
   },
   "source": []
  },
  {
   "cell_type": "code",
   "execution_count": 19,
   "id": "12a6b656",
   "metadata": {
    "execution": {
     "iopub.execute_input": "2021-09-06T13:19:55.309828Z",
     "iopub.status.busy": "2021-09-06T13:19:55.308268Z",
     "iopub.status.idle": "2021-09-06T13:19:55.313661Z",
     "shell.execute_reply": "2021-09-06T13:19:55.314235Z",
     "shell.execute_reply.started": "2021-09-06T13:18:39.310238Z"
    },
    "papermill": {
     "duration": 0.050176,
     "end_time": "2021-09-06T13:19:55.314424",
     "exception": false,
     "start_time": "2021-09-06T13:19:55.264248",
     "status": "completed"
    },
    "tags": []
   },
   "outputs": [
    {
     "data": {
      "text/plain": [
       "0"
      ]
     },
     "execution_count": 19,
     "metadata": {},
     "output_type": "execute_result"
    }
   ],
   "source": [
    "df['penalties'].isnull().sum()"
   ]
  },
  {
   "cell_type": "code",
   "execution_count": 20,
   "id": "8f66e501",
   "metadata": {
    "execution": {
     "iopub.execute_input": "2021-09-06T13:19:55.396809Z",
     "iopub.status.busy": "2021-09-06T13:19:55.395797Z",
     "iopub.status.idle": "2021-09-06T13:19:55.403751Z",
     "shell.execute_reply": "2021-09-06T13:19:55.404268Z",
     "shell.execute_reply.started": "2021-09-06T13:18:39.766809Z"
    },
    "papermill": {
     "duration": 0.050911,
     "end_time": "2021-09-06T13:19:55.404472",
     "exception": false,
     "start_time": "2021-09-06T13:19:55.353561",
     "status": "completed"
    },
    "tags": []
   },
   "outputs": [
    {
     "data": {
      "text/plain": [
       "0         48\n",
       "1         48\n",
       "2         48\n",
       "3         47\n",
       "4         47\n",
       "          ..\n",
       "183973    83\n",
       "183974    70\n",
       "183975    70\n",
       "183976    53\n",
       "183977    53\n",
       "Name: penalties, Length: 183978, dtype: int64"
      ]
     },
     "execution_count": 20,
     "metadata": {},
     "output_type": "execute_result"
    }
   ],
   "source": [
    "\n",
    "df['penalties'].astype(int)"
   ]
  },
  {
   "cell_type": "code",
   "execution_count": 21,
   "id": "08b8eaa7",
   "metadata": {
    "execution": {
     "iopub.execute_input": "2021-09-06T13:19:55.487842Z",
     "iopub.status.busy": "2021-09-06T13:19:55.486819Z",
     "iopub.status.idle": "2021-09-06T13:19:55.659738Z",
     "shell.execute_reply": "2021-09-06T13:19:55.660281Z",
     "shell.execute_reply.started": "2021-09-06T13:18:40.226242Z"
    },
    "papermill": {
     "duration": 0.216351,
     "end_time": "2021-09-06T13:19:55.660479",
     "exception": false,
     "start_time": "2021-09-06T13:19:55.444128",
     "status": "completed"
    },
    "tags": []
   },
   "outputs": [],
   "source": [
    "df_combined = df.merge(df_player, left_on='player_fifa_api_id', right_on='player_fifa_api_id', how='inner')"
   ]
  },
  {
   "cell_type": "code",
   "execution_count": 16,
   "id": "f81a583b",
   "metadata": {
    "execution": {
     "iopub.execute_input": "2021-09-06T13:19:55.744218Z",
     "iopub.status.busy": "2021-09-06T13:19:55.743321Z",
     "iopub.status.idle": "2021-09-06T13:19:55.775423Z",
     "shell.execute_reply": "2021-09-06T13:19:55.774910Z",
     "shell.execute_reply.started": "2021-09-06T13:18:40.656676Z"
    },
    "papermill": {
     "duration": 0.075139,
     "end_time": "2021-09-06T13:19:55.775568",
     "exception": false,
     "start_time": "2021-09-06T13:19:55.700429",
     "status": "completed"
    },
    "tags": []
   },
   "outputs": [
    {
     "data": {
      "text/html": [
       "<div>\n",
       "<style scoped>\n",
       "    .dataframe tbody tr th:only-of-type {\n",
       "        vertical-align: middle;\n",
       "    }\n",
       "\n",
       "    .dataframe tbody tr th {\n",
       "        vertical-align: top;\n",
       "    }\n",
       "\n",
       "    .dataframe thead th {\n",
       "        text-align: right;\n",
       "    }\n",
       "</style>\n",
       "<table border=\"1\" class=\"dataframe\">\n",
       "  <thead>\n",
       "    <tr style=\"text-align: right;\">\n",
       "      <th></th>\n",
       "      <th>id_x</th>\n",
       "      <th>player_fifa_api_id</th>\n",
       "      <th>player_api_id_x</th>\n",
       "      <th>date</th>\n",
       "      <th>overall_rating</th>\n",
       "      <th>potential</th>\n",
       "      <th>preferred_foot</th>\n",
       "      <th>attacking_work_rate</th>\n",
       "      <th>defensive_work_rate</th>\n",
       "      <th>crossing</th>\n",
       "      <th>...</th>\n",
       "      <th>gk_handling</th>\n",
       "      <th>gk_kicking</th>\n",
       "      <th>gk_positioning</th>\n",
       "      <th>gk_reflexes</th>\n",
       "      <th>id_y</th>\n",
       "      <th>player_api_id_y</th>\n",
       "      <th>player_name</th>\n",
       "      <th>birthday</th>\n",
       "      <th>height</th>\n",
       "      <th>weight</th>\n",
       "    </tr>\n",
       "  </thead>\n",
       "  <tbody>\n",
       "    <tr>\n",
       "      <th>0</th>\n",
       "      <td>1</td>\n",
       "      <td>218353</td>\n",
       "      <td>505942</td>\n",
       "      <td>2016-02-18 00:00:00</td>\n",
       "      <td>67.0</td>\n",
       "      <td>71.0</td>\n",
       "      <td>right</td>\n",
       "      <td>medium</td>\n",
       "      <td>medium</td>\n",
       "      <td>49.0</td>\n",
       "      <td>...</td>\n",
       "      <td>11.0</td>\n",
       "      <td>10.0</td>\n",
       "      <td>8.0</td>\n",
       "      <td>8.0</td>\n",
       "      <td>1</td>\n",
       "      <td>505942</td>\n",
       "      <td>Aaron Appindangoye</td>\n",
       "      <td>1992-02-29 00:00:00</td>\n",
       "      <td>182.88</td>\n",
       "      <td>187</td>\n",
       "    </tr>\n",
       "    <tr>\n",
       "      <th>1</th>\n",
       "      <td>2</td>\n",
       "      <td>218353</td>\n",
       "      <td>505942</td>\n",
       "      <td>2015-11-19 00:00:00</td>\n",
       "      <td>67.0</td>\n",
       "      <td>71.0</td>\n",
       "      <td>right</td>\n",
       "      <td>medium</td>\n",
       "      <td>medium</td>\n",
       "      <td>49.0</td>\n",
       "      <td>...</td>\n",
       "      <td>11.0</td>\n",
       "      <td>10.0</td>\n",
       "      <td>8.0</td>\n",
       "      <td>8.0</td>\n",
       "      <td>1</td>\n",
       "      <td>505942</td>\n",
       "      <td>Aaron Appindangoye</td>\n",
       "      <td>1992-02-29 00:00:00</td>\n",
       "      <td>182.88</td>\n",
       "      <td>187</td>\n",
       "    </tr>\n",
       "    <tr>\n",
       "      <th>2</th>\n",
       "      <td>3</td>\n",
       "      <td>218353</td>\n",
       "      <td>505942</td>\n",
       "      <td>2015-09-21 00:00:00</td>\n",
       "      <td>62.0</td>\n",
       "      <td>66.0</td>\n",
       "      <td>right</td>\n",
       "      <td>medium</td>\n",
       "      <td>medium</td>\n",
       "      <td>49.0</td>\n",
       "      <td>...</td>\n",
       "      <td>11.0</td>\n",
       "      <td>10.0</td>\n",
       "      <td>8.0</td>\n",
       "      <td>8.0</td>\n",
       "      <td>1</td>\n",
       "      <td>505942</td>\n",
       "      <td>Aaron Appindangoye</td>\n",
       "      <td>1992-02-29 00:00:00</td>\n",
       "      <td>182.88</td>\n",
       "      <td>187</td>\n",
       "    </tr>\n",
       "    <tr>\n",
       "      <th>3</th>\n",
       "      <td>4</td>\n",
       "      <td>218353</td>\n",
       "      <td>505942</td>\n",
       "      <td>2015-03-20 00:00:00</td>\n",
       "      <td>61.0</td>\n",
       "      <td>65.0</td>\n",
       "      <td>right</td>\n",
       "      <td>medium</td>\n",
       "      <td>medium</td>\n",
       "      <td>48.0</td>\n",
       "      <td>...</td>\n",
       "      <td>10.0</td>\n",
       "      <td>9.0</td>\n",
       "      <td>7.0</td>\n",
       "      <td>7.0</td>\n",
       "      <td>1</td>\n",
       "      <td>505942</td>\n",
       "      <td>Aaron Appindangoye</td>\n",
       "      <td>1992-02-29 00:00:00</td>\n",
       "      <td>182.88</td>\n",
       "      <td>187</td>\n",
       "    </tr>\n",
       "    <tr>\n",
       "      <th>4</th>\n",
       "      <td>5</td>\n",
       "      <td>218353</td>\n",
       "      <td>505942</td>\n",
       "      <td>2007-02-22 00:00:00</td>\n",
       "      <td>61.0</td>\n",
       "      <td>65.0</td>\n",
       "      <td>right</td>\n",
       "      <td>medium</td>\n",
       "      <td>medium</td>\n",
       "      <td>48.0</td>\n",
       "      <td>...</td>\n",
       "      <td>10.0</td>\n",
       "      <td>9.0</td>\n",
       "      <td>7.0</td>\n",
       "      <td>7.0</td>\n",
       "      <td>1</td>\n",
       "      <td>505942</td>\n",
       "      <td>Aaron Appindangoye</td>\n",
       "      <td>1992-02-29 00:00:00</td>\n",
       "      <td>182.88</td>\n",
       "      <td>187</td>\n",
       "    </tr>\n",
       "  </tbody>\n",
       "</table>\n",
       "<p>5 rows × 48 columns</p>\n",
       "</div>"
      ],
      "text/plain": [
       "   id_x  player_fifa_api_id  player_api_id_x                 date  \\\n",
       "0     1              218353           505942  2016-02-18 00:00:00   \n",
       "1     2              218353           505942  2015-11-19 00:00:00   \n",
       "2     3              218353           505942  2015-09-21 00:00:00   \n",
       "3     4              218353           505942  2015-03-20 00:00:00   \n",
       "4     5              218353           505942  2007-02-22 00:00:00   \n",
       "\n",
       "   overall_rating  potential preferred_foot attacking_work_rate  \\\n",
       "0            67.0       71.0          right              medium   \n",
       "1            67.0       71.0          right              medium   \n",
       "2            62.0       66.0          right              medium   \n",
       "3            61.0       65.0          right              medium   \n",
       "4            61.0       65.0          right              medium   \n",
       "\n",
       "  defensive_work_rate  crossing  ...  gk_handling  gk_kicking  gk_positioning  \\\n",
       "0              medium      49.0  ...         11.0        10.0             8.0   \n",
       "1              medium      49.0  ...         11.0        10.0             8.0   \n",
       "2              medium      49.0  ...         11.0        10.0             8.0   \n",
       "3              medium      48.0  ...         10.0         9.0             7.0   \n",
       "4              medium      48.0  ...         10.0         9.0             7.0   \n",
       "\n",
       "   gk_reflexes  id_y  player_api_id_y         player_name  \\\n",
       "0          8.0     1           505942  Aaron Appindangoye   \n",
       "1          8.0     1           505942  Aaron Appindangoye   \n",
       "2          8.0     1           505942  Aaron Appindangoye   \n",
       "3          7.0     1           505942  Aaron Appindangoye   \n",
       "4          7.0     1           505942  Aaron Appindangoye   \n",
       "\n",
       "              birthday  height  weight  \n",
       "0  1992-02-29 00:00:00  182.88     187  \n",
       "1  1992-02-29 00:00:00  182.88     187  \n",
       "2  1992-02-29 00:00:00  182.88     187  \n",
       "3  1992-02-29 00:00:00  182.88     187  \n",
       "4  1992-02-29 00:00:00  182.88     187  \n",
       "\n",
       "[5 rows x 48 columns]"
      ]
     },
     "execution_count": 16,
     "metadata": {},
     "output_type": "execute_result"
    }
   ],
   "source": [
    "# view to check merge\n",
    "df_combined.head()"
   ]
  },
  {
   "cell_type": "markdown",
   "id": "930651af",
   "metadata": {
    "papermill": {
     "duration": 0.040267,
     "end_time": "2021-09-06T13:19:55.856214",
     "exception": false,
     "start_time": "2021-09-06T13:19:55.815947",
     "status": "completed"
    },
    "tags": []
   },
   "source": [
    "we merge two tables to obtain players names from player table and pentailes from player attributes table to build relationship between them. "
   ]
  },
  {
   "cell_type": "markdown",
   "id": "f856271e",
   "metadata": {
    "papermill": {
     "duration": 0.04033,
     "end_time": "2021-09-06T13:19:55.937044",
     "exception": false,
     "start_time": "2021-09-06T13:19:55.896714",
     "status": "completed"
    },
    "tags": []
   },
   "source": [
    "### Which player has the most penalties"
   ]
  },
  {
   "cell_type": "code",
   "execution_count": 17,
   "id": "b2a18181",
   "metadata": {
    "execution": {
     "iopub.execute_input": "2021-09-06T13:19:56.072959Z",
     "iopub.status.busy": "2021-09-06T13:19:56.052183Z",
     "iopub.status.idle": "2021-09-06T13:19:56.083509Z",
     "shell.execute_reply": "2021-09-06T13:19:56.082980Z",
     "shell.execute_reply.started": "2021-09-06T13:18:42.082258Z"
    },
    "papermill": {
     "duration": 0.105907,
     "end_time": "2021-09-06T13:19:56.083651",
     "exception": false,
     "start_time": "2021-09-06T13:19:55.977744",
     "status": "completed"
    },
    "tags": []
   },
   "outputs": [
    {
     "data": {
      "text/plain": [
       "Danilo                108\n",
       "Sebastian Giovinco     96\n",
       "Douglas                93\n",
       "Felipe                 89\n",
       "Ricardo                84\n",
       "                     ... \n",
       "Pires                   2\n",
       "Jose Matos              2\n",
       "Tiago Rosa              2\n",
       "Xhevdet Gela            2\n",
       "Ryan Thomson            2\n",
       "Name: player_name, Length: 10848, dtype: int64"
      ]
     },
     "execution_count": 17,
     "metadata": {},
     "output_type": "execute_result"
    }
   ],
   "source": [
    "df_combined['player_name'].value_counts()"
   ]
  },
  {
   "cell_type": "markdown",
   "id": "afe6b342",
   "metadata": {
    "papermill": {
     "duration": 0.040688,
     "end_time": "2021-09-06T13:19:56.165427",
     "exception": false,
     "start_time": "2021-09-06T13:19:56.124739",
     "status": "completed"
    },
    "tags": []
   },
   "source": [
    "each player has several penalties in several rows"
   ]
  },
  {
   "cell_type": "markdown",
   "id": "5656fd9c",
   "metadata": {
    "papermill": {
     "duration": 0.04089,
     "end_time": "2021-09-06T13:19:56.247678",
     "exception": false,
     "start_time": "2021-09-06T13:19:56.206788",
     "status": "completed"
    },
    "tags": []
   },
   "source": [
    "calculate all penalties for each player by sum method."
   ]
  },
  {
   "cell_type": "code",
   "execution_count": 18,
   "id": "e2469d62",
   "metadata": {
    "execution": {
     "iopub.execute_input": "2021-09-06T13:19:56.336652Z",
     "iopub.status.busy": "2021-09-06T13:19:56.335296Z",
     "iopub.status.idle": "2021-09-06T13:19:56.548818Z",
     "shell.execute_reply": "2021-09-06T13:19:56.548252Z",
     "shell.execute_reply.started": "2021-09-06T13:18:43.806073Z"
    },
    "papermill": {
     "duration": 0.260393,
     "end_time": "2021-09-06T13:19:56.548955",
     "exception": false,
     "start_time": "2021-09-06T13:19:56.288562",
     "status": "completed"
    },
    "tags": []
   },
   "outputs": [
    {
     "data": {
      "text/plain": [
       "player_name\n",
       "Aaron Appindangoye              238.0\n",
       "Aaron Cresswell                1753.0\n",
       "Aaron Doran                    1574.0\n",
       "Aaron Galindo                   960.0\n",
       "Aaron Hughes                   1324.0\n",
       "                                ...  \n",
       "Zsolt Low                       427.0\n",
       "Zurab Khizanishvili             512.0\n",
       "Zvjezdan Misimovic              709.0\n",
       "de Oliveira Cleber Monteiro     478.0\n",
       "dos Santos Fabio Junior         290.0\n",
       "Name: penalties, Length: 10848, dtype: float64"
      ]
     },
     "execution_count": 18,
     "metadata": {},
     "output_type": "execute_result"
    }
   ],
   "source": [
    "df_combined.groupby('player_name').sum().penalties"
   ]
  },
  {
   "cell_type": "code",
   "execution_count": 19,
   "id": "39d3a143",
   "metadata": {
    "execution": {
     "iopub.execute_input": "2021-09-06T13:19:56.642995Z",
     "iopub.status.busy": "2021-09-06T13:19:56.641826Z",
     "iopub.status.idle": "2021-09-06T13:19:56.750380Z",
     "shell.execute_reply": "2021-09-06T13:19:56.749848Z",
     "shell.execute_reply.started": "2021-09-06T13:18:44.314226Z"
    },
    "papermill": {
     "duration": 0.160053,
     "end_time": "2021-09-06T13:19:56.750518",
     "exception": false,
     "start_time": "2021-09-06T13:19:56.590465",
     "status": "completed"
    },
    "tags": []
   },
   "outputs": [
    {
     "data": {
      "text/html": [
       "<div>\n",
       "<style scoped>\n",
       "    .dataframe tbody tr th:only-of-type {\n",
       "        vertical-align: middle;\n",
       "    }\n",
       "\n",
       "    .dataframe tbody tr th {\n",
       "        vertical-align: top;\n",
       "    }\n",
       "\n",
       "    .dataframe thead th {\n",
       "        text-align: right;\n",
       "    }\n",
       "</style>\n",
       "<table border=\"1\" class=\"dataframe\">\n",
       "  <thead>\n",
       "    <tr style=\"text-align: right;\">\n",
       "      <th></th>\n",
       "      <th>penalties</th>\n",
       "    </tr>\n",
       "    <tr>\n",
       "      <th>player_name</th>\n",
       "      <th></th>\n",
       "    </tr>\n",
       "  </thead>\n",
       "  <tbody>\n",
       "    <tr>\n",
       "      <th>Aaron Appindangoye</th>\n",
       "      <td>238.0</td>\n",
       "    </tr>\n",
       "    <tr>\n",
       "      <th>Aaron Cresswell</th>\n",
       "      <td>1753.0</td>\n",
       "    </tr>\n",
       "    <tr>\n",
       "      <th>Aaron Doran</th>\n",
       "      <td>1574.0</td>\n",
       "    </tr>\n",
       "    <tr>\n",
       "      <th>Aaron Galindo</th>\n",
       "      <td>960.0</td>\n",
       "    </tr>\n",
       "    <tr>\n",
       "      <th>Aaron Hughes</th>\n",
       "      <td>1324.0</td>\n",
       "    </tr>\n",
       "  </tbody>\n",
       "</table>\n",
       "</div>"
      ],
      "text/plain": [
       "                    penalties\n",
       "player_name                  \n",
       "Aaron Appindangoye      238.0\n",
       "Aaron Cresswell        1753.0\n",
       "Aaron Doran            1574.0\n",
       "Aaron Galindo           960.0\n",
       "Aaron Hughes           1324.0"
      ]
     },
     "execution_count": 19,
     "metadata": {},
     "output_type": "execute_result"
    }
   ],
   "source": [
    "answer=df_combined.groupby('player_name').sum().penalties\n",
    "df_answer=pd.DataFrame(answer)\n",
    "df_answer.head()"
   ]
  },
  {
   "cell_type": "markdown",
   "id": "4064dec9",
   "metadata": {
    "papermill": {
     "duration": 0.041296,
     "end_time": "2021-09-06T13:19:56.833565",
     "exception": false,
     "start_time": "2021-09-06T13:19:56.792269",
     "status": "completed"
    },
    "tags": []
   },
   "source": [
    "Convet the answer in the previous step to obtain data from it"
   ]
  },
  {
   "cell_type": "code",
   "execution_count": 20,
   "id": "ba6d1540",
   "metadata": {
    "execution": {
     "iopub.execute_input": "2021-09-06T13:19:56.924880Z",
     "iopub.status.busy": "2021-09-06T13:19:56.923886Z",
     "iopub.status.idle": "2021-09-06T13:19:56.935112Z",
     "shell.execute_reply": "2021-09-06T13:19:56.935579Z",
     "shell.execute_reply.started": "2021-09-06T13:18:45.895368Z"
    },
    "papermill": {
     "duration": 0.06066,
     "end_time": "2021-09-06T13:19:56.935750",
     "exception": false,
     "start_time": "2021-09-06T13:19:56.875090",
     "status": "completed"
    },
    "tags": []
   },
   "outputs": [
    {
     "data": {
      "text/html": [
       "<div>\n",
       "<style scoped>\n",
       "    .dataframe tbody tr th:only-of-type {\n",
       "        vertical-align: middle;\n",
       "    }\n",
       "\n",
       "    .dataframe tbody tr th {\n",
       "        vertical-align: top;\n",
       "    }\n",
       "\n",
       "    .dataframe thead th {\n",
       "        text-align: right;\n",
       "    }\n",
       "</style>\n",
       "<table border=\"1\" class=\"dataframe\">\n",
       "  <thead>\n",
       "    <tr style=\"text-align: right;\">\n",
       "      <th></th>\n",
       "      <th>penalties</th>\n",
       "    </tr>\n",
       "  </thead>\n",
       "  <tbody>\n",
       "    <tr>\n",
       "      <th>count</th>\n",
       "      <td>10848.000000</td>\n",
       "    </tr>\n",
       "    <tr>\n",
       "      <th>mean</th>\n",
       "      <td>928.608038</td>\n",
       "    </tr>\n",
       "    <tr>\n",
       "      <th>std</th>\n",
       "      <td>651.243223</td>\n",
       "    </tr>\n",
       "    <tr>\n",
       "      <th>min</th>\n",
       "      <td>20.000000</td>\n",
       "    </tr>\n",
       "    <tr>\n",
       "      <th>25%</th>\n",
       "      <td>422.000000</td>\n",
       "    </tr>\n",
       "    <tr>\n",
       "      <th>50%</th>\n",
       "      <td>779.000000</td>\n",
       "    </tr>\n",
       "    <tr>\n",
       "      <th>75%</th>\n",
       "      <td>1298.000000</td>\n",
       "    </tr>\n",
       "    <tr>\n",
       "      <th>max</th>\n",
       "      <td>6716.000000</td>\n",
       "    </tr>\n",
       "  </tbody>\n",
       "</table>\n",
       "</div>"
      ],
      "text/plain": [
       "          penalties\n",
       "count  10848.000000\n",
       "mean     928.608038\n",
       "std      651.243223\n",
       "min       20.000000\n",
       "25%      422.000000\n",
       "50%      779.000000\n",
       "75%     1298.000000\n",
       "max     6716.000000"
      ]
     },
     "execution_count": 20,
     "metadata": {},
     "output_type": "execute_result"
    }
   ],
   "source": [
    "df_answer.describe()"
   ]
  },
  {
   "cell_type": "code",
   "execution_count": 21,
   "id": "686961d4",
   "metadata": {
    "execution": {
     "iopub.execute_input": "2021-09-06T13:19:57.025782Z",
     "iopub.status.busy": "2021-09-06T13:19:57.024873Z",
     "iopub.status.idle": "2021-09-06T13:19:57.046722Z",
     "shell.execute_reply": "2021-09-06T13:19:57.047359Z",
     "shell.execute_reply.started": "2021-09-06T13:18:46.493973Z"
    },
    "papermill": {
     "duration": 0.069598,
     "end_time": "2021-09-06T13:19:57.047534",
     "exception": false,
     "start_time": "2021-09-06T13:19:56.977936",
     "status": "completed"
    },
    "tags": []
   },
   "outputs": [
    {
     "data": {
      "text/plain": [
       "player_name\n",
       "Sebastian Giovinco    6716.0\n",
       "Name: penalties, dtype: float64"
      ]
     },
     "execution_count": 21,
     "metadata": {},
     "output_type": "execute_result"
    }
   ],
   "source": [
    "df_answer['penalties'].loc[lambda s: s == df_answer['penalties'].max()]"
   ]
  },
  {
   "cell_type": "markdown",
   "id": "257cb415",
   "metadata": {
    "papermill": {
     "duration": 0.042314,
     "end_time": "2021-09-06T13:19:57.132360",
     "exception": false,
     "start_time": "2021-09-06T13:19:57.090046",
     "status": "completed"
    },
    "tags": []
   },
   "source": [
    "Player which had the most penalties is (Sebastian Giovinco) with (6716)"
   ]
  },
  {
   "cell_type": "code",
   "execution_count": 22,
   "id": "3e33c96d",
   "metadata": {
    "execution": {
     "iopub.execute_input": "2021-09-06T13:19:57.221818Z",
     "iopub.status.busy": "2021-09-06T13:19:57.221141Z",
     "iopub.status.idle": "2021-09-06T13:19:57.229744Z",
     "shell.execute_reply": "2021-09-06T13:19:57.230253Z",
     "shell.execute_reply.started": "2021-09-06T13:18:47.929498Z"
    },
    "papermill": {
     "duration": 0.054977,
     "end_time": "2021-09-06T13:19:57.230452",
     "exception": false,
     "start_time": "2021-09-06T13:19:57.175475",
     "status": "completed"
    },
    "scrolled": true,
    "tags": []
   },
   "outputs": [
    {
     "data": {
      "text/plain": [
       "player_name\n",
       "Danilo                6358.0\n",
       "Sebastian Giovinco    6716.0\n",
       "Name: penalties, dtype: float64"
      ]
     },
     "execution_count": 22,
     "metadata": {},
     "output_type": "execute_result"
    }
   ],
   "source": [
    "df_answer['penalties'].loc[lambda s: s > 6000]"
   ]
  }
 ],
 "metadata": {
  "kernelspec": {
   "display_name": "Python 3 (ipykernel)",
   "language": "python",
   "name": "python3"
  },
  "language_info": {
   "codemirror_mode": {
    "name": "ipython",
    "version": 3
   },
   "file_extension": ".py",
   "mimetype": "text/x-python",
   "name": "python",
   "nbconvert_exporter": "python",
   "pygments_lexer": "ipython3",
   "version": "3.9.12"
  },
  "papermill": {
   "default_parameters": {},
   "duration": 23.762917,
   "end_time": "2021-09-06T13:20:02.633265",
   "environment_variables": {},
   "exception": null,
   "input_path": "__notebook__.ipynb",
   "output_path": "__notebook__.ipynb",
   "parameters": {},
   "start_time": "2021-09-06T13:19:38.870348",
   "version": "2.3.3"
  }
 },
 "nbformat": 4,
 "nbformat_minor": 5
}
