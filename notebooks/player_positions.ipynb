{
 "cells": [
  {
   "cell_type": "markdown",
   "id": "eeb28f9f",
   "metadata": {},
   "source": [
    "# Author\n",
    "\n",
    "Name: Tobias Haider\n",
    "\n",
    "Student id: 11833743\n",
    "\n"
   ]
  },
  {
   "cell_type": "markdown",
   "id": "a4dbdc3f",
   "metadata": {},
   "source": [
    "# Overview\n",
    "\n",
    "This notebook demonstrates the process of loading, extracting and processing structured data about socer player attributes. The main subject of the experiment is the typical position of players with certain attributes. The goal is to gain insights on how certain physical features of soccer players affect there preference regarding their role in a professional soccer team."
   ]
  },
  {
   "cell_type": "markdown",
   "id": "220a3a85",
   "metadata": {},
   "source": [
    "# Preparation"
   ]
  },
  {
   "cell_type": "markdown",
   "id": "d2db928a",
   "metadata": {},
   "source": [
    "## Import libraries"
   ]
  },
  {
   "cell_type": "code",
   "execution_count": 1,
   "id": "ded8bf06",
   "metadata": {},
   "outputs": [],
   "source": [
    "# data access\n",
    "import sqlite3 as db\n",
    "# data processing\n",
    "import pandas as pd\n",
    "import numpy as np\n",
    "# plotting\n",
    "import seaborn as sns\n",
    "import matplotlib.pyplot as plt\n",
    "# machine learning\n",
    "from sklearn.model_selection import train_test_split\n",
    "from sklearn.preprocessing import StandardScaler\n",
    "from sklearn.metrics import confusion_matrix, classification_report\n",
    "from sklearn.pipeline import Pipeline\n",
    "from sklearn.svm import SVC\n",
    "from sklearn.discriminant_analysis import LinearDiscriminantAnalysis"
   ]
  },
  {
   "cell_type": "markdown",
   "id": "9e649808",
   "metadata": {},
   "source": [
    "## Define the access to the datasets"
   ]
  },
  {
   "cell_type": "code",
   "execution_count": 2,
   "id": "e902d3f7",
   "metadata": {},
   "outputs": [],
   "source": [
    "# sqlite file path\n",
    "sqlite_path = \"../data/soccer.sqlite\"\n",
    "\n",
    "# a function for executing database queries\n",
    "def query_database(query):\n",
    "    connection = db.connect(sqlite_path)\n",
    "    dataframe = pd.read_sql_query(query, connection)\n",
    "    connection.close()\n",
    "    return dataframe"
   ]
  },
  {
   "cell_type": "code",
   "execution_count": 3,
   "id": "2c03af33",
   "metadata": {},
   "outputs": [],
   "source": [
    "# define some queries for loading the data sets\n",
    "sql_queries = {\n",
    "    \"countries\": \"select * from country\",\n",
    "    \"leagues\": \"select * from league\",\n",
    "    \"matches\": \"select * from match\",\n",
    "    \"players\": \"select * from player\",\n",
    "    \"player_attributes\": \"select * from player_attributes\",\n",
    "    \"teams\": \"select * from team\",\n",
    "    \"team_attributes\": \"select * from team_attributes\"\n",
    "}\n",
    "\n",
    "def load_dataset(name):\n",
    "    return query_database(sql_queries[name])"
   ]
  },
  {
   "cell_type": "markdown",
   "id": "5103a1d4",
   "metadata": {},
   "source": [
    "## Load the datasets"
   ]
  },
  {
   "cell_type": "code",
   "execution_count": 4,
   "id": "67d1da98",
   "metadata": {},
   "outputs": [],
   "source": [
    "player_info = load_dataset(\"players\").set_index(\"player_api_id\")\n",
    "player_attributes = load_dataset(\"player_attributes\").set_index(\"player_api_id\")\n",
    "matches = load_dataset(\"matches\")"
   ]
  },
  {
   "cell_type": "markdown",
   "id": "c78cd96a",
   "metadata": {},
   "source": [
    "# Preprocess the data"
   ]
  },
  {
   "cell_type": "markdown",
   "id": "c18f15e7",
   "metadata": {},
   "source": [
    "## Remove all historical player attributes"
   ]
  },
  {
   "cell_type": "code",
   "execution_count": 5,
   "id": "36eb5093",
   "metadata": {},
   "outputs": [],
   "source": [
    "player_attributes = player_attributes[~player_attributes.index.duplicated(keep=\"last\")]"
   ]
  },
  {
   "cell_type": "markdown",
   "id": "fd504ab7",
   "metadata": {},
   "source": [
    "## Evaluate the position of the players using the matches data"
   ]
  },
  {
   "cell_type": "code",
   "execution_count": 6,
   "id": "3c8223e6",
   "metadata": {},
   "outputs": [],
   "source": [
    "def extract_player_position(matches, method=pd.Series.mode):\n",
    "    match_positions = pd.DataFrame(columns=[\"player_api_id\", \"position_X\", \"position_Y\"])\n",
    "    for i in range(1, 12):\n",
    "        # extract the home player position\n",
    "        home = matches[[f\"home_player_{i}\", f\"home_player_X{i}\", f\"home_player_Y{i}\"]]\n",
    "        home = home.rename(columns={f\"home_player_{i}\": \"player_api_id\", f\"home_player_X{i}\": \"position_X\", f\"home_player_Y{i}\": \"position_Y\"})\n",
    "\n",
    "        # extract the away player position\n",
    "        away = matches[[f\"away_player_{i}\", f\"away_player_X{i}\", f\"away_player_Y{i}\"]]\n",
    "        away = away.rename(columns={f\"away_player_{i}\": \"player_api_id\", f\"away_player_X{i}\": \"position_X\", f\"away_player_Y{i}\": \"position_Y\"})\n",
    "\n",
    "        # add the positions to the new data frame\n",
    "        match_positions = pd.concat([match_positions, home, away])\n",
    "        \n",
    "    player_positions = match_positions.groupby([\"player_api_id\"], as_index=True).agg({\"position_X\":\"mean\",\"position_Y\":method})\n",
    "    # take the first position if multiple are present\n",
    "    player_positions[\"position_X\"] = [pos.item(0) if isinstance(pos, np.ndarray) else pos for pos in player_positions[\"position_X\"]]\n",
    "    player_positions[\"position_Y\"] = [pos.item(0) if isinstance(pos, np.ndarray) else pos for pos in player_positions[\"position_Y\"]]\n",
    "    \n",
    "    return player_positions"
   ]
  },
  {
   "cell_type": "code",
   "execution_count": 7,
   "id": "15c87fa9",
   "metadata": {},
   "outputs": [],
   "source": [
    "player_positions = extract_player_position(matches, pd.Series.mode)"
   ]
  },
  {
   "cell_type": "markdown",
   "id": "0650a8be",
   "metadata": {},
   "source": [
    "## Join all tables into one working dataset"
   ]
  },
  {
   "cell_type": "code",
   "execution_count": 8,
   "id": "b9a73e11",
   "metadata": {},
   "outputs": [],
   "source": [
    "players = player_info.join(player_attributes, lsuffix=\"player_info\", rsuffix=\"player_attributes\").join(player_positions, lsuffix=\"players\", rsuffix=\"player_positions\")\n",
    "players = players[[c for c in players.columns if not \"id\" in c]]"
   ]
  },
  {
   "cell_type": "markdown",
   "id": "b5c2cb46",
   "metadata": {},
   "source": [
    "## Map string to numeric variables"
   ]
  },
  {
   "cell_type": "code",
   "execution_count": 9,
   "id": "f7eae06e",
   "metadata": {},
   "outputs": [],
   "source": [
    "work_rate_mappings = {\"low\": 1, \"medium\": 2, \"high\": 3}\n",
    "players.loc[~players[\"defensive_work_rate\"].isin(work_rate_mappings), \"defensive_work_rate\"] = None\n",
    "players[\"defensive_work_rate\"] = players[\"defensive_work_rate\"].map(work_rate_mappings)\n",
    "players.loc[~players[\"attacking_work_rate\"].isin(work_rate_mappings), \"attacking_work_rate\"] = None\n",
    "players[\"attacking_work_rate\"] = players[\"attacking_work_rate\"].map(work_rate_mappings)"
   ]
  },
  {
   "cell_type": "code",
   "execution_count": 10,
   "id": "64ab8358",
   "metadata": {},
   "outputs": [],
   "source": [
    "foot_mappings = {\"left\": 1, \"right\": 2}\n",
    "players[\"preferred_foot\"] = players[\"preferred_foot\"].map(foot_mappings)"
   ]
  },
  {
   "cell_type": "markdown",
   "id": "289b77d5",
   "metadata": {},
   "source": [
    "## Delete entries with missing values"
   ]
  },
  {
   "cell_type": "code",
   "execution_count": 11,
   "id": "da7e53ab",
   "metadata": {},
   "outputs": [],
   "source": [
    "players = players.dropna()"
   ]
  },
  {
   "cell_type": "markdown",
   "id": "cacae0c8",
   "metadata": {},
   "source": [
    "# Display the data"
   ]
  },
  {
   "cell_type": "code",
   "execution_count": 12,
   "id": "d7c05201",
   "metadata": {},
   "outputs": [
    {
     "data": {
      "text/html": [
       "<div>\n",
       "<style scoped>\n",
       "    .dataframe tbody tr th:only-of-type {\n",
       "        vertical-align: middle;\n",
       "    }\n",
       "\n",
       "    .dataframe tbody tr th {\n",
       "        vertical-align: top;\n",
       "    }\n",
       "\n",
       "    .dataframe thead th {\n",
       "        text-align: right;\n",
       "    }\n",
       "</style>\n",
       "<table border=\"1\" class=\"dataframe\">\n",
       "  <thead>\n",
       "    <tr style=\"text-align: right;\">\n",
       "      <th></th>\n",
       "      <th>player_name</th>\n",
       "      <th>birthday</th>\n",
       "      <th>height</th>\n",
       "      <th>weight</th>\n",
       "      <th>date</th>\n",
       "      <th>overall_rating</th>\n",
       "      <th>potential</th>\n",
       "      <th>preferred_foot</th>\n",
       "      <th>attacking_work_rate</th>\n",
       "      <th>defensive_work_rate</th>\n",
       "      <th>...</th>\n",
       "      <th>penalties</th>\n",
       "      <th>marking</th>\n",
       "      <th>standing_tackle</th>\n",
       "      <th>gk_diving</th>\n",
       "      <th>gk_handling</th>\n",
       "      <th>gk_kicking</th>\n",
       "      <th>gk_positioning</th>\n",
       "      <th>gk_reflexes</th>\n",
       "      <th>position_X</th>\n",
       "      <th>position_Y</th>\n",
       "    </tr>\n",
       "    <tr>\n",
       "      <th>player_api_id</th>\n",
       "      <th></th>\n",
       "      <th></th>\n",
       "      <th></th>\n",
       "      <th></th>\n",
       "      <th></th>\n",
       "      <th></th>\n",
       "      <th></th>\n",
       "      <th></th>\n",
       "      <th></th>\n",
       "      <th></th>\n",
       "      <th></th>\n",
       "      <th></th>\n",
       "      <th></th>\n",
       "      <th></th>\n",
       "      <th></th>\n",
       "      <th></th>\n",
       "      <th></th>\n",
       "      <th></th>\n",
       "      <th></th>\n",
       "      <th></th>\n",
       "      <th></th>\n",
       "    </tr>\n",
       "  </thead>\n",
       "  <tbody>\n",
       "    <tr>\n",
       "      <th>505942.0</th>\n",
       "      <td>Aaron Appindangoye</td>\n",
       "      <td>1992-02-29 00:00:00</td>\n",
       "      <td>182.88</td>\n",
       "      <td>187</td>\n",
       "      <td>2007-02-22 00:00:00</td>\n",
       "      <td>61.0</td>\n",
       "      <td>65.0</td>\n",
       "      <td>2.0</td>\n",
       "      <td>2.0</td>\n",
       "      <td>2.0</td>\n",
       "      <td>...</td>\n",
       "      <td>47.0</td>\n",
       "      <td>62.0</td>\n",
       "      <td>63.0</td>\n",
       "      <td>5.0</td>\n",
       "      <td>10.0</td>\n",
       "      <td>9.0</td>\n",
       "      <td>7.0</td>\n",
       "      <td>7.0</td>\n",
       "      <td>5.500000</td>\n",
       "      <td>3.0</td>\n",
       "    </tr>\n",
       "    <tr>\n",
       "      <th>155782.0</th>\n",
       "      <td>Aaron Cresswell</td>\n",
       "      <td>1989-12-15 00:00:00</td>\n",
       "      <td>170.18</td>\n",
       "      <td>146</td>\n",
       "      <td>2007-02-22 00:00:00</td>\n",
       "      <td>53.0</td>\n",
       "      <td>60.0</td>\n",
       "      <td>2.0</td>\n",
       "      <td>2.0</td>\n",
       "      <td>2.0</td>\n",
       "      <td>...</td>\n",
       "      <td>29.0</td>\n",
       "      <td>53.0</td>\n",
       "      <td>45.0</td>\n",
       "      <td>6.0</td>\n",
       "      <td>22.0</td>\n",
       "      <td>49.0</td>\n",
       "      <td>22.0</td>\n",
       "      <td>22.0</td>\n",
       "      <td>7.933333</td>\n",
       "      <td>3.0</td>\n",
       "    </tr>\n",
       "    <tr>\n",
       "      <th>162549.0</th>\n",
       "      <td>Aaron Doran</td>\n",
       "      <td>1991-05-13 00:00:00</td>\n",
       "      <td>170.18</td>\n",
       "      <td>163</td>\n",
       "      <td>2007-02-22 00:00:00</td>\n",
       "      <td>59.0</td>\n",
       "      <td>70.0</td>\n",
       "      <td>2.0</td>\n",
       "      <td>2.0</td>\n",
       "      <td>2.0</td>\n",
       "      <td>...</td>\n",
       "      <td>36.0</td>\n",
       "      <td>21.0</td>\n",
       "      <td>21.0</td>\n",
       "      <td>8.0</td>\n",
       "      <td>21.0</td>\n",
       "      <td>54.0</td>\n",
       "      <td>21.0</td>\n",
       "      <td>21.0</td>\n",
       "      <td>4.682692</td>\n",
       "      <td>7.0</td>\n",
       "    </tr>\n",
       "    <tr>\n",
       "      <th>30572.0</th>\n",
       "      <td>Aaron Galindo</td>\n",
       "      <td>1982-05-08 00:00:00</td>\n",
       "      <td>182.88</td>\n",
       "      <td>198</td>\n",
       "      <td>2007-02-22 00:00:00</td>\n",
       "      <td>71.0</td>\n",
       "      <td>78.0</td>\n",
       "      <td>2.0</td>\n",
       "      <td>2.0</td>\n",
       "      <td>3.0</td>\n",
       "      <td>...</td>\n",
       "      <td>60.0</td>\n",
       "      <td>72.0</td>\n",
       "      <td>70.0</td>\n",
       "      <td>14.0</td>\n",
       "      <td>11.0</td>\n",
       "      <td>58.0</td>\n",
       "      <td>11.0</td>\n",
       "      <td>10.0</td>\n",
       "      <td>5.500000</td>\n",
       "      <td>3.0</td>\n",
       "    </tr>\n",
       "    <tr>\n",
       "      <th>23780.0</th>\n",
       "      <td>Aaron Hughes</td>\n",
       "      <td>1979-11-08 00:00:00</td>\n",
       "      <td>182.88</td>\n",
       "      <td>154</td>\n",
       "      <td>2007-02-22 00:00:00</td>\n",
       "      <td>75.0</td>\n",
       "      <td>75.0</td>\n",
       "      <td>2.0</td>\n",
       "      <td>2.0</td>\n",
       "      <td>2.0</td>\n",
       "      <td>...</td>\n",
       "      <td>81.0</td>\n",
       "      <td>74.0</td>\n",
       "      <td>79.0</td>\n",
       "      <td>12.0</td>\n",
       "      <td>11.0</td>\n",
       "      <td>55.0</td>\n",
       "      <td>10.0</td>\n",
       "      <td>6.0</td>\n",
       "      <td>4.481481</td>\n",
       "      <td>3.0</td>\n",
       "    </tr>\n",
       "    <tr>\n",
       "      <th>...</th>\n",
       "      <td>...</td>\n",
       "      <td>...</td>\n",
       "      <td>...</td>\n",
       "      <td>...</td>\n",
       "      <td>...</td>\n",
       "      <td>...</td>\n",
       "      <td>...</td>\n",
       "      <td>...</td>\n",
       "      <td>...</td>\n",
       "      <td>...</td>\n",
       "      <td>...</td>\n",
       "      <td>...</td>\n",
       "      <td>...</td>\n",
       "      <td>...</td>\n",
       "      <td>...</td>\n",
       "      <td>...</td>\n",
       "      <td>...</td>\n",
       "      <td>...</td>\n",
       "      <td>...</td>\n",
       "      <td>...</td>\n",
       "      <td>...</td>\n",
       "    </tr>\n",
       "    <tr>\n",
       "      <th>192132.0</th>\n",
       "      <td>Zouhaier Dhaouadhi</td>\n",
       "      <td>1988-01-01 00:00:00</td>\n",
       "      <td>180.34</td>\n",
       "      <td>159</td>\n",
       "      <td>2007-02-22 00:00:00</td>\n",
       "      <td>64.0</td>\n",
       "      <td>66.0</td>\n",
       "      <td>1.0</td>\n",
       "      <td>2.0</td>\n",
       "      <td>2.0</td>\n",
       "      <td>...</td>\n",
       "      <td>76.0</td>\n",
       "      <td>39.0</td>\n",
       "      <td>26.0</td>\n",
       "      <td>16.0</td>\n",
       "      <td>10.0</td>\n",
       "      <td>12.0</td>\n",
       "      <td>8.0</td>\n",
       "      <td>8.0</td>\n",
       "      <td>8.000000</td>\n",
       "      <td>7.0</td>\n",
       "    </tr>\n",
       "    <tr>\n",
       "      <th>282473.0</th>\n",
       "      <td>Zouhair Feddal</td>\n",
       "      <td>1989-01-01 00:00:00</td>\n",
       "      <td>190.50</td>\n",
       "      <td>172</td>\n",
       "      <td>2007-02-22 00:00:00</td>\n",
       "      <td>62.0</td>\n",
       "      <td>66.0</td>\n",
       "      <td>1.0</td>\n",
       "      <td>1.0</td>\n",
       "      <td>2.0</td>\n",
       "      <td>...</td>\n",
       "      <td>34.0</td>\n",
       "      <td>66.0</td>\n",
       "      <td>70.0</td>\n",
       "      <td>13.0</td>\n",
       "      <td>14.0</td>\n",
       "      <td>12.0</td>\n",
       "      <td>10.0</td>\n",
       "      <td>8.0</td>\n",
       "      <td>6.212766</td>\n",
       "      <td>3.0</td>\n",
       "    </tr>\n",
       "    <tr>\n",
       "      <th>26357.0</th>\n",
       "      <td>Zoumana Camara</td>\n",
       "      <td>1979-04-03 00:00:00</td>\n",
       "      <td>182.88</td>\n",
       "      <td>168</td>\n",
       "      <td>2007-02-22 00:00:00</td>\n",
       "      <td>77.0</td>\n",
       "      <td>78.0</td>\n",
       "      <td>2.0</td>\n",
       "      <td>1.0</td>\n",
       "      <td>2.0</td>\n",
       "      <td>...</td>\n",
       "      <td>68.0</td>\n",
       "      <td>83.0</td>\n",
       "      <td>76.0</td>\n",
       "      <td>14.0</td>\n",
       "      <td>13.0</td>\n",
       "      <td>73.0</td>\n",
       "      <td>13.0</td>\n",
       "      <td>6.0</td>\n",
       "      <td>5.205882</td>\n",
       "      <td>3.0</td>\n",
       "    </tr>\n",
       "    <tr>\n",
       "      <th>111182.0</th>\n",
       "      <td>Zsolt Laczko</td>\n",
       "      <td>1986-12-18 00:00:00</td>\n",
       "      <td>182.88</td>\n",
       "      <td>176</td>\n",
       "      <td>2007-02-22 00:00:00</td>\n",
       "      <td>67.0</td>\n",
       "      <td>77.0</td>\n",
       "      <td>1.0</td>\n",
       "      <td>2.0</td>\n",
       "      <td>2.0</td>\n",
       "      <td>...</td>\n",
       "      <td>44.0</td>\n",
       "      <td>75.0</td>\n",
       "      <td>70.0</td>\n",
       "      <td>9.0</td>\n",
       "      <td>8.0</td>\n",
       "      <td>5.0</td>\n",
       "      <td>5.0</td>\n",
       "      <td>8.0</td>\n",
       "      <td>8.285714</td>\n",
       "      <td>7.0</td>\n",
       "    </tr>\n",
       "    <tr>\n",
       "      <th>39902.0</th>\n",
       "      <td>Zvjezdan Misimovic</td>\n",
       "      <td>1982-06-05 00:00:00</td>\n",
       "      <td>180.34</td>\n",
       "      <td>176</td>\n",
       "      <td>2007-02-22 00:00:00</td>\n",
       "      <td>80.0</td>\n",
       "      <td>81.0</td>\n",
       "      <td>2.0</td>\n",
       "      <td>2.0</td>\n",
       "      <td>1.0</td>\n",
       "      <td>...</td>\n",
       "      <td>53.0</td>\n",
       "      <td>38.0</td>\n",
       "      <td>32.0</td>\n",
       "      <td>9.0</td>\n",
       "      <td>9.0</td>\n",
       "      <td>78.0</td>\n",
       "      <td>7.0</td>\n",
       "      <td>15.0</td>\n",
       "      <td>5.046875</td>\n",
       "      <td>9.0</td>\n",
       "    </tr>\n",
       "  </tbody>\n",
       "</table>\n",
       "<p>9290 rows × 44 columns</p>\n",
       "</div>"
      ],
      "text/plain": [
       "                      player_name             birthday  height  weight  \\\n",
       "player_api_id                                                            \n",
       "505942.0       Aaron Appindangoye  1992-02-29 00:00:00  182.88     187   \n",
       "155782.0          Aaron Cresswell  1989-12-15 00:00:00  170.18     146   \n",
       "162549.0              Aaron Doran  1991-05-13 00:00:00  170.18     163   \n",
       "30572.0             Aaron Galindo  1982-05-08 00:00:00  182.88     198   \n",
       "23780.0              Aaron Hughes  1979-11-08 00:00:00  182.88     154   \n",
       "...                           ...                  ...     ...     ...   \n",
       "192132.0       Zouhaier Dhaouadhi  1988-01-01 00:00:00  180.34     159   \n",
       "282473.0           Zouhair Feddal  1989-01-01 00:00:00  190.50     172   \n",
       "26357.0            Zoumana Camara  1979-04-03 00:00:00  182.88     168   \n",
       "111182.0             Zsolt Laczko  1986-12-18 00:00:00  182.88     176   \n",
       "39902.0        Zvjezdan Misimovic  1982-06-05 00:00:00  180.34     176   \n",
       "\n",
       "                              date  overall_rating  potential  preferred_foot  \\\n",
       "player_api_id                                                                   \n",
       "505942.0       2007-02-22 00:00:00            61.0       65.0             2.0   \n",
       "155782.0       2007-02-22 00:00:00            53.0       60.0             2.0   \n",
       "162549.0       2007-02-22 00:00:00            59.0       70.0             2.0   \n",
       "30572.0        2007-02-22 00:00:00            71.0       78.0             2.0   \n",
       "23780.0        2007-02-22 00:00:00            75.0       75.0             2.0   \n",
       "...                            ...             ...        ...             ...   \n",
       "192132.0       2007-02-22 00:00:00            64.0       66.0             1.0   \n",
       "282473.0       2007-02-22 00:00:00            62.0       66.0             1.0   \n",
       "26357.0        2007-02-22 00:00:00            77.0       78.0             2.0   \n",
       "111182.0       2007-02-22 00:00:00            67.0       77.0             1.0   \n",
       "39902.0        2007-02-22 00:00:00            80.0       81.0             2.0   \n",
       "\n",
       "               attacking_work_rate  defensive_work_rate  ...  penalties  \\\n",
       "player_api_id                                            ...              \n",
       "505942.0                       2.0                  2.0  ...       47.0   \n",
       "155782.0                       2.0                  2.0  ...       29.0   \n",
       "162549.0                       2.0                  2.0  ...       36.0   \n",
       "30572.0                        2.0                  3.0  ...       60.0   \n",
       "23780.0                        2.0                  2.0  ...       81.0   \n",
       "...                            ...                  ...  ...        ...   \n",
       "192132.0                       2.0                  2.0  ...       76.0   \n",
       "282473.0                       1.0                  2.0  ...       34.0   \n",
       "26357.0                        1.0                  2.0  ...       68.0   \n",
       "111182.0                       2.0                  2.0  ...       44.0   \n",
       "39902.0                        2.0                  1.0  ...       53.0   \n",
       "\n",
       "               marking  standing_tackle  gk_diving  gk_handling  gk_kicking  \\\n",
       "player_api_id                                                                 \n",
       "505942.0          62.0             63.0        5.0         10.0         9.0   \n",
       "155782.0          53.0             45.0        6.0         22.0        49.0   \n",
       "162549.0          21.0             21.0        8.0         21.0        54.0   \n",
       "30572.0           72.0             70.0       14.0         11.0        58.0   \n",
       "23780.0           74.0             79.0       12.0         11.0        55.0   \n",
       "...                ...              ...        ...          ...         ...   \n",
       "192132.0          39.0             26.0       16.0         10.0        12.0   \n",
       "282473.0          66.0             70.0       13.0         14.0        12.0   \n",
       "26357.0           83.0             76.0       14.0         13.0        73.0   \n",
       "111182.0          75.0             70.0        9.0          8.0         5.0   \n",
       "39902.0           38.0             32.0        9.0          9.0        78.0   \n",
       "\n",
       "               gk_positioning  gk_reflexes  position_X  position_Y  \n",
       "player_api_id                                                       \n",
       "505942.0                  7.0          7.0    5.500000         3.0  \n",
       "155782.0                 22.0         22.0    7.933333         3.0  \n",
       "162549.0                 21.0         21.0    4.682692         7.0  \n",
       "30572.0                  11.0         10.0    5.500000         3.0  \n",
       "23780.0                  10.0          6.0    4.481481         3.0  \n",
       "...                       ...          ...         ...         ...  \n",
       "192132.0                  8.0          8.0    8.000000         7.0  \n",
       "282473.0                 10.0          8.0    6.212766         3.0  \n",
       "26357.0                  13.0          6.0    5.205882         3.0  \n",
       "111182.0                  5.0          8.0    8.285714         7.0  \n",
       "39902.0                   7.0         15.0    5.046875         9.0  \n",
       "\n",
       "[9290 rows x 44 columns]"
      ]
     },
     "execution_count": 12,
     "metadata": {},
     "output_type": "execute_result"
    }
   ],
   "source": [
    "players"
   ]
  },
  {
   "cell_type": "code",
   "execution_count": 13,
   "id": "5319cba4",
   "metadata": {},
   "outputs": [],
   "source": [
    "players[\"role\"] = \"other\"\n",
    "players.loc[players[\"position_Y\"] > 8, \"role\"] = \"front\"\n",
    "players.loc[(players[\"position_Y\"] > 3) & (players[\"position_Y\"] <= 8), \"role\"] = \"middle\"\n",
    "players.loc[(players[\"position_Y\"] > 1) & (players[\"position_Y\"] <= 3), \"role\"] = \"back\"\n",
    "players.loc[players[\"position_Y\"] <= 1, \"role\"] = \"goalkeeper\"\n"
   ]
  },
  {
   "cell_type": "code",
   "execution_count": 14,
   "id": "6cd4d67e",
   "metadata": {},
   "outputs": [
    {
     "data": {
      "text/plain": [
       "<matplotlib.collections.LineCollection at 0x7fd1b86278b0>"
      ]
     },
     "execution_count": 14,
     "metadata": {},
     "output_type": "execute_result"
    },
    {
     "data": {
      "image/png": "[encoded data removed]",
      "text/plain": [
       "<Figure size 627.625x500 with 1 Axes>"
      ]
     },
     "metadata": {},
     "output_type": "display_data"
    }
   ],
   "source": [
    "sns.relplot(data=players, x=\"position_X\", y=\"position_Y\", hue=\"role\")\n",
    "plt.vlines(5, 0, 12, colors=\"r\")"
   ]
  },
  {
   "cell_type": "code",
   "execution_count": 15,
   "id": "43470cb9",
   "metadata": {},
   "outputs": [
    {
     "data": {
      "text/plain": [
       "<AxesSubplot: xlabel='height', ylabel='Count'>"
      ]
     },
     "execution_count": 15,
     "metadata": {},
     "output_type": "execute_result"
    },
    {
     "data": {
      "image/png": "[encoded data removed]",
      "text/plain": [
       "<Figure size 640x480 with 1 Axes>"
      ]
     },
     "metadata": {},
     "output_type": "display_data"
    }
   ],
   "source": [
    "sns.histplot(data=players, x=\"height\")"
   ]
  },
  {
   "cell_type": "code",
   "execution_count": 16,
   "id": "235c4436",
   "metadata": {},
   "outputs": [
    {
     "data": {
      "text/plain": [
       "<AxesSubplot: xlabel='height', ylabel='Density'>"
      ]
     },
     "execution_count": 16,
     "metadata": {},
     "output_type": "execute_result"
    },
    {
     "data": {
      "image/png": "[encoded data removed]",
      "text/plain": [
       "<Figure size 640x480 with 1 Axes>"
      ]
     },
     "metadata": {},
     "output_type": "display_data"
    }
   ],
   "source": [
    "sns.kdeplot(data=players, x=\"height\", hue=\"role\", bw_adjust=2)"
   ]
  },
  {
   "cell_type": "markdown",
   "id": "21cc406e",
   "metadata": {},
   "source": [
    "# Build a role predictor"
   ]
  },
  {
   "cell_type": "code",
   "execution_count": 17,
   "id": "97639fcc",
   "metadata": {},
   "outputs": [],
   "source": [
    "random_state = 11833743"
   ]
  },
  {
   "cell_type": "markdown",
   "id": "9cfded80",
   "metadata": {},
   "source": [
    "## Choose the features"
   ]
  },
  {
   "cell_type": "code",
   "execution_count": 18,
   "id": "63dae5c9",
   "metadata": {},
   "outputs": [],
   "source": [
    "X = players.drop([\"player_name\", \"birthday\", \"date\", \"position_X\", \"position_Y\", \"role\"], axis=1)\n",
    "y = players[\"role\"]\n",
    "labels = y.unique()"
   ]
  },
  {
   "cell_type": "markdown",
   "id": "81dd2094",
   "metadata": {},
   "source": [
    "## Create the train test split"
   ]
  },
  {
   "cell_type": "code",
   "execution_count": 19,
   "id": "a8647229",
   "metadata": {},
   "outputs": [],
   "source": [
    "X_train, X_test, y_train, y_test = train_test_split(X, y, test_size=0.33, random_state=random_state)"
   ]
  },
  {
   "cell_type": "markdown",
   "id": "1d14cfd7",
   "metadata": {},
   "source": [
    "## Create a support vector classifier"
   ]
  },
  {
   "cell_type": "code",
   "execution_count": 20,
   "id": "18747ff6",
   "metadata": {},
   "outputs": [],
   "source": [
    "def train_svc(X, y, random_state=random_state):\n",
    "    pipeline = Pipeline([\n",
    "        (\"scale\", StandardScaler()),\n",
    "        (\"classify\", SVC(random_state=random_state))])\n",
    "    return pipeline.fit(X_train, y_train)\n",
    "\n",
    "# train the svc\n",
    "svc_model = train_svc(X_train, y_train)"
   ]
  },
  {
   "cell_type": "code",
   "execution_count": 21,
   "id": "205fd54f",
   "metadata": {},
   "outputs": [
    {
     "name": "stdout",
     "output_type": "stream",
     "text": [
      "SVC accuracy back: 0.8685258964143426\n",
      "SVC accuracy middle: 0.7534136546184739\n",
      "SVC accuracy goalkeeper: 0.996078431372549\n",
      "SVC accuracy front: 0.7651245551601423\n",
      "SVC accuracy total: 0.8134377038486627\n"
     ]
    }
   ],
   "source": [
    "y_pred = svc_model.predict(X_test)\n",
    "classification_table = confusion_matrix(y_pred, y_test, labels=y.unique())\n",
    "\n",
    "for label, accuracy in zip(labels, np.diag(classification_table) / np.sum(classification_table, axis=1)):\n",
    "    print(f\"SVC accuracy {label}: {accuracy}\")\n",
    "print(f\"SVC accuracy total: {np.sum(np.diag(classification_table) / np.sum(np.sum(classification_table)))}\")"
   ]
  },
  {
   "cell_type": "markdown",
   "id": "aa275ff5",
   "metadata": {},
   "source": [
    "## Create a lda classifer"
   ]
  },
  {
   "cell_type": "code",
   "execution_count": 23,
   "id": "d12266f0",
   "metadata": {},
   "outputs": [],
   "source": [
    "def train_lda(X, y, random_state=random_state):\n",
    "    pipeline = Pipeline([\n",
    "        (\"scale\", StandardScaler()),\n",
    "        (\"classify\", LinearDiscriminantAnalysis())])\n",
    "    return pipeline.fit(X_train, y_train)\n",
    "\n",
    "# train the svc\n",
    "lda_model = train_lda(X_train, y_train)"
   ]
  },
  {
   "cell_type": "code",
   "execution_count": 24,
   "id": "af3a1c66",
   "metadata": {},
   "outputs": [
    {
     "name": "stdout",
     "output_type": "stream",
     "text": [
      "LDA accuracy back: 0.8534396809571286\n",
      "LDA accuracy middle: 0.7449152542372881\n",
      "LDA accuracy goalkeeper: 0.9921875\n",
      "LDA accuracy front: 0.7256778309409888\n",
      "LDA accuracy total: 0.7971298108284409\n"
     ]
    }
   ],
   "source": [
    "y_pred = lda_model.predict(X_test)\n",
    "classification_table = confusion_matrix(y_pred, y_test, labels=y.unique())\n",
    "\n",
    "for label, accuracy in zip(labels, np.diag(classification_table) / np.sum(classification_table, axis=1)):\n",
    "    print(f\"LDA accuracy {label}: {accuracy}\")\n",
    "print(f\"LDA accuracy total: {np.sum(np.diag(classification_table) / np.sum(np.sum(classification_table)))}\")"
   ]
  },
  {
   "cell_type": "code",
   "execution_count": null,
   "id": "9c1cf5a9",
   "metadata": {},
   "outputs": [],
   "source": []
  }
 ],
 "metadata": {
  "kernelspec": {
   "display_name": "Python 3 (ipykernel)",
   "language": "python",
   "name": "python3"
  },
  "language_info": {
   "codemirror_mode": {
    "name": "ipython",
    "version": 3
   },
   "file_extension": ".py",
   "mimetype": "text/x-python",
   "name": "python",
   "nbconvert_exporter": "python",
   "pygments_lexer": "ipython3",
   "version": "3.10.6"
  }
 },
 "nbformat": 4,
 "nbformat_minor": 5
}
