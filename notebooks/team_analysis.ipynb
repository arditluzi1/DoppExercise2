{
 "cells": [
  {
   "cell_type": "code",
   "execution_count": 1,
   "id": "ded8bf06",
   "metadata": {},
   "outputs": [],
   "source": [
    "import sqlite3 as db\n",
    "import pandas as pd"
   ]
  },
  {
   "cell_type": "code",
   "execution_count": 2,
   "id": "e902d3f7",
   "metadata": {},
   "outputs": [],
   "source": [
    "# sqlite file path\n",
    "sqlite_path = \"../data/soccer.sqlite\"\n",
    "\n",
    "# a function for executing database queries\n",
    "def query_database(query):\n",
    "    connection = db.connect(sqlite_path)\n",
    "    dataframe = pd.read_sql_query(query, connection)\n",
    "    connection.close()\n",
    "    return dataframe"
   ]
  },
  {
   "cell_type": "code",
   "execution_count": 3,
   "id": "2c03af33",
   "metadata": {},
   "outputs": [],
   "source": [
    "# define some queries for loading the data sets\n",
    "sql_queries = {\n",
    "    \"countries\": \"select * from country\",\n",
    "    \"leagues\": \"select * from league\",\n",
    "    \"matches\": \"select * from match\",\n",
    "    \"players\": \"select * from player\",\n",
    "    \"player_attributes\": \"select * from player_attributes\",\n",
    "    \"teams\": \"select * from team\",\n",
    "    \"team_attributes\": \"select * from team_attributes\"\n",
    "}\n",
    "\n",
    "def load_dataset(name):\n",
    "    return query_database(sql_queries[name])"
   ]
  },
  {
   "cell_type": "markdown",
   "id": "3056992e",
   "metadata": {},
   "source": [
    "# Analyze the performance of professional football teams"
   ]
  },
  {
   "cell_type": "code",
   "execution_count": null,
   "id": "8293b82c",
   "metadata": {},
   "outputs": [],
   "source": []
  },
  {
   "cell_type": "code",
   "execution_count": null,
   "id": "82b4f248",
   "metadata": {},
   "outputs": [],
   "source": []
  },
  {
   "cell_type": "code",
   "execution_count": null,
   "id": "203e3ff0",
   "metadata": {},
   "outputs": [],
   "source": []
  },
  {
   "cell_type": "code",
   "execution_count": null,
   "id": "c508775a",
   "metadata": {},
   "outputs": [],
   "source": []
  },
  {
   "cell_type": "code",
   "execution_count": null,
   "id": "d2236a17",
   "metadata": {},
   "outputs": [],
   "source": []
  }
 ],
 "metadata": {
  "kernelspec": {
   "display_name": "Python 3 (ipykernel)",
   "language": "python",
   "name": "python3"
  },
  "language_info": {
   "codemirror_mode": {
    "name": "ipython",
    "version": 3
   },
   "file_extension": ".py",
   "mimetype": "text/x-python",
   "name": "python",
   "nbconvert_exporter": "python",
   "pygments_lexer": "ipython3",
   "version": "3.10.6"
  }
 },
 "nbformat": 4,
 "nbformat_minor": 5
}
