{
 "cells": [
  {
   "cell_type": "markdown",
   "metadata": {},
   "source": [
    "# MATCH OUTCOME ANALYSES & PREDICTIONS"
   ]
  },
  {
   "cell_type": "markdown",
   "metadata": {},
   "source": [
    "## Author"
   ]
  },
  {
   "cell_type": "markdown",
   "metadata": {},
   "source": [
    "Saban Akay, 14045645"
   ]
  },
  {
   "cell_type": "markdown",
   "metadata": {},
   "source": [
    "## Introduction"
   ]
  },
  {
   "cell_type": "markdown",
   "metadata": {},
   "source": [
    "### Background Information"
   ]
  },
  {
   "cell_type": "markdown",
   "metadata": {},
   "source": [
    "### Data Description"
   ]
  },
  {
   "cell_type": "markdown",
   "metadata": {},
   "source": [
    "The Europian Soccer Dataset is a relational database of soccer matches, players, and teams. It contains data for soccer matches in eleven European countries from 2008 to 2016. The database contains;\n",
    "- +25,000 matches\n",
    "- +10,000 players\n",
    "- 11 European Countries with their lead championship\n",
    "- Seasons 2008 to 2016\n",
    "- Players and Teams' attributes* sourced from EA Sports' FIFA video game series, including the weekly updates\n",
    "- Team line up with squad formation (X, Y coordinates)\n",
    "- Betting odds from up to 10 providers\n",
    "- Detailed match events (goal types, possession, corner, cross, fouls, cards etc…) for +10,000 matchesThe data is stored in a SQLite database.\n",
    "\n",
    "The database is provided by [Hugomathien](https://www.kaggle.com/hugomathien/soccer) on Kaggle."
   ]
  },
  {
   "cell_type": "markdown",
   "metadata": {},
   "source": [
    "### Problem Statement"
   ]
  },
  {
   "cell_type": "markdown",
   "metadata": {},
   "source": [
    "In this notebook, I will try to answer the following questions:\n",
    "\n",
    "1. What is the most common match outcome?\n",
    "2. What is the relationship between the match outcome and the team attributes?\n",
    "3. What is the relationship between the match outcome and the player attributes?\n",
    "4. What is the relationship between the match outcome and the betting odds?\n",
    "5. Which relationship is the strongest predictor of the match outcome?\n"
   ]
  },
  {
   "cell_type": "markdown",
   "metadata": {},
   "source": [
    "### Methodology"
   ]
  },
  {
   "cell_type": "markdown",
   "metadata": {},
   "source": [
    "The methodology of this notebook is as follows:\n",
    "\n",
    "1. [Setup](#Setup)\n",
    "    - [Import Libraries](#Import-Libraries)\n",
    "    - [Ultilities](#Ultilities)\n",
    "2. [Data Preparation](#Data-Preparation)\n",
    "    - [Data Collection](#Data-Collection)\n",
    "    - [Data Cleaning](#Data-Cleaning)\n",
    "    - [Data Transformation](#Data-Transformation)\n",
    "    - [Data Integration](#Data-Integration)\n",
    "    - [Feature Engineering](#Feature-Engineering)\n",
    "3. [Data Analysis](#Data-Analysis)\n",
    "    - [Exploratory Data Analysis](#Exploratory-Data-Analysis)\n",
    "    - [Descriptive Statistics](#Descriptive-Statistics)\n",
    "    - [Data Visualization](#Data-Visualization)\n",
    "    - [Identifying Patterns and Insights](#Identifying-Patterns-and-Insights)\n",
    "4. [Prediction](#Prediction)\n",
    "    - [Model Definition](#Model-Definition)\n",
    "    - [Model Training](#Model-Training)\n",
    "    - [Model Testing](#Model-Testing)\n",
    "    - [Model Evaluation](#Model-Evaluation)\n",
    "    - [Model Selection](#Model-Selection)\n",
    "    - [Model Tuning](#Model-Tuning)\n",
    "5. [Conclusion](#Conclusion)\n",
    "    - [Discussion](#Discussion)\n",
    "    - [Limitations](#Limitations)\n",
    "    - [Future Work](#Future-Work)"
   ]
  },
  {
   "cell_type": "markdown",
   "metadata": {},
   "source": [
    "## Setup"
   ]
  },
  {
   "cell_type": "markdown",
   "metadata": {},
   "source": [
    "### Import Libraries"
   ]
  },
  {
   "cell_type": "code",
   "execution_count": 125,
   "metadata": {},
   "outputs": [],
   "source": [
    "# Import required libraries\n",
    "import sqlite3 as db\n",
    "import pandas as pd\n",
    "import numpy as np\n",
    "import seaborn as sns\n",
    "import itertools\n",
    "import matplotlib.pyplot as plt\n",
    "from time import time\n",
    "from sklearn import model_selection\n",
    "from sklearn.model_selection import train_test_split\n",
    "from sklearn.ensemble import RandomForestClassifier\n",
    "from sklearn.naive_bayes import GaussianNB\n",
    "from sklearn.neighbors import KNeighborsClassifier\n",
    "from sklearn.metrics import confusion_matrix, classification_report, accuracy_score\n",
    "from sklearn.calibration import CalibratedClassifierCV\n",
    "from sklearn.metrics import make_scorer\n",
    "from sklearn.decomposition import PCA, FastICA\n",
    "from sklearn.pipeline import Pipeline\n",
    "import warnings\n",
    "import tempfile\n",
    "from joblib import Memory\n",
    "import datetime"
   ]
  },
  {
   "cell_type": "markdown",
   "metadata": {},
   "source": [
    "### Ultilities"
   ]
  },
  {
   "cell_type": "code",
   "execution_count": 126,
   "metadata": {},
   "outputs": [],
   "source": [
    "warnings.filterwarnings(\"ignore\")"
   ]
  },
  {
   "cell_type": "code",
   "execution_count": 127,
   "metadata": {},
   "outputs": [],
   "source": [
    "# seed for reproducibility\n",
    "Seed = 42"
   ]
  },
  {
   "cell_type": "code",
   "execution_count": 128,
   "metadata": {},
   "outputs": [],
   "source": [
    "# Create a temporary folder to store the transformers of the pipeline\n",
    "location = tempfile.gettempdir()\n",
    "memory = Memory(location=location, verbose=-1)"
   ]
  },
  {
   "cell_type": "code",
   "execution_count": 129,
   "metadata": {},
   "outputs": [],
   "source": [
    "# amount of data to be used (for run time purposes, 100% = 1, 50% = 0.5, etc.)\n",
    "run = 0.02\n",
    "n = 0.3"
   ]
  },
  {
   "cell_type": "code",
   "execution_count": 130,
   "metadata": {},
   "outputs": [],
   "source": [
    "relations = ['team', 'player', 'betting']"
   ]
  },
  {
   "cell_type": "markdown",
   "metadata": {},
   "source": [
    "## Data Preparation"
   ]
  },
  {
   "cell_type": "markdown",
   "metadata": {},
   "source": [
    "In this section, we will load and clean the data from the European Soccer Database. \n",
    "This may include handling missing values, removing irrelevant columns, and merging different tables of the database."
   ]
  },
  {
   "cell_type": "markdown",
   "metadata": {},
   "source": [
    "### Data Collection"
   ]
  },
  {
   "cell_type": "code",
   "execution_count": 131,
   "metadata": {},
   "outputs": [
    {
     "name": "stdout",
     "output_type": "stream",
     "text": [
      "[('sqlite_sequence',), ('Player_Attributes',), ('Player',), ('Match',), ('League',), ('Country',), ('Team',), ('Team_Attributes',)]\n"
     ]
    }
   ],
   "source": [
    "# explore the tables in the database\n",
    "conn = db.connect('../data/database.sqlite')\n",
    "cursor = conn.cursor()\n",
    "cursor.execute(\"SELECT name FROM sqlite_master WHERE type='table';\")\n",
    "print(cursor.fetchall())"
   ]
  },
  {
   "cell_type": "code",
   "execution_count": 132,
   "metadata": {},
   "outputs": [],
   "source": [
    "# load the data\n",
    "with db.connect('../data/database.sqlite') as conn:\n",
    "    matches = pd.read_sql_query('SELECT * FROM Match', conn)\n",
    "    teams = pd.read_sql_query('SELECT * FROM Team', conn)\n",
    "    leagues = pd.read_sql_query('SELECT * FROM League', conn)\n",
    "    countries = pd.read_sql_query('SELECT * FROM Country', conn)\n",
    "    players = pd.read_sql_query('SELECT * FROM Player', conn)\n",
    "    player_attributes = pd.read_sql_query('SELECT * FROM Player_Attributes', conn)\n",
    "    team_attributes = pd.read_sql_query('SELECT * FROM Team_Attributes', conn)\n"
   ]
  },
  {
   "cell_type": "code",
   "execution_count": 133,
   "metadata": {},
   "outputs": [
    {
     "name": "stdout",
     "output_type": "stream",
     "text": [
      "['id' 'country_id' 'league_id' 'season' 'stage' 'date' 'match_api_id'\n",
      " 'home_team_api_id' 'away_team_api_id' 'home_team_goal' 'away_team_goal'\n",
      " 'home_player_X1' 'home_player_X2' 'home_player_X3' 'home_player_X4'\n",
      " 'home_player_X5' 'home_player_X6' 'home_player_X7' 'home_player_X8'\n",
      " 'home_player_X9' 'home_player_X10' 'home_player_X11' 'away_player_X1'\n",
      " 'away_player_X2' 'away_player_X3' 'away_player_X4' 'away_player_X5'\n",
      " 'away_player_X6' 'away_player_X7' 'away_player_X8' 'away_player_X9'\n",
      " 'away_player_X10' 'away_player_X11' 'home_player_Y1' 'home_player_Y2'\n",
      " 'home_player_Y3' 'home_player_Y4' 'home_player_Y5' 'home_player_Y6'\n",
      " 'home_player_Y7' 'home_player_Y8' 'home_player_Y9' 'home_player_Y10'\n",
      " 'home_player_Y11' 'away_player_Y1' 'away_player_Y2' 'away_player_Y3'\n",
      " 'away_player_Y4' 'away_player_Y5' 'away_player_Y6' 'away_player_Y7'\n",
      " 'away_player_Y8' 'away_player_Y9' 'away_player_Y10' 'away_player_Y11'\n",
      " 'home_player_1' 'home_player_2' 'home_player_3' 'home_player_4'\n",
      " 'home_player_5' 'home_player_6' 'home_player_7' 'home_player_8'\n",
      " 'home_player_9' 'home_player_10' 'home_player_11' 'away_player_1'\n",
      " 'away_player_2' 'away_player_3' 'away_player_4' 'away_player_5'\n",
      " 'away_player_6' 'away_player_7' 'away_player_8' 'away_player_9'\n",
      " 'away_player_10' 'away_player_11' 'goal' 'shoton' 'shotoff' 'foulcommit'\n",
      " 'card' 'cross' 'corner' 'possession' 'B365H' 'B365D' 'B365A' 'BWH' 'BWD'\n",
      " 'BWA' 'IWH' 'IWD' 'IWA' 'LBH' 'LBD' 'LBA' 'PSH' 'PSD' 'PSA' 'WHH' 'WHD'\n",
      " 'WHA' 'SJH' 'SJD' 'SJA' 'VCH' 'VCD' 'VCA' 'GBH' 'GBD' 'GBA' 'BSH' 'BSD'\n",
      " 'BSA'] \t (25979, 115)\n"
     ]
    }
   ],
   "source": [
    "# explore the columns in matches table\n",
    "print(f'{matches.columns.values} \\t {matches.shape}')"
   ]
  },
  {
   "cell_type": "code",
   "execution_count": 134,
   "metadata": {},
   "outputs": [
    {
     "name": "stdout",
     "output_type": "stream",
     "text": [
      "['id' 'name'] \t (11, 2)\n"
     ]
    }
   ],
   "source": [
    "# explore the columns in countries table\n",
    "print(f'{countries.columns.values} \\t {countries.shape}')"
   ]
  },
  {
   "cell_type": "code",
   "execution_count": 135,
   "metadata": {},
   "outputs": [
    {
     "name": "stdout",
     "output_type": "stream",
     "text": [
      "['id' 'country_id' 'name'] \t (11, 3)\n"
     ]
    }
   ],
   "source": [
    "# explore the columns in leagues table\n",
    "print(f'{leagues.columns.values} \\t {leagues.shape}')"
   ]
  },
  {
   "cell_type": "code",
   "execution_count": 136,
   "metadata": {},
   "outputs": [
    {
     "name": "stdout",
     "output_type": "stream",
     "text": [
      "['id' 'player_api_id' 'player_name' 'player_fifa_api_id' 'birthday'\n",
      " 'height' 'weight'] \t (11060, 7)\n"
     ]
    }
   ],
   "source": [
    "# explore the columns in players table\n",
    "print(f'{players.columns.values} \\t {players.shape}')"
   ]
  },
  {
   "cell_type": "code",
   "execution_count": 137,
   "metadata": {},
   "outputs": [
    {
     "name": "stdout",
     "output_type": "stream",
     "text": [
      "['id' 'player_fifa_api_id' 'player_api_id' 'date' 'overall_rating'\n",
      " 'potential' 'preferred_foot' 'attacking_work_rate' 'defensive_work_rate'\n",
      " 'crossing' 'finishing' 'heading_accuracy' 'short_passing' 'volleys'\n",
      " 'dribbling' 'curve' 'free_kick_accuracy' 'long_passing' 'ball_control'\n",
      " 'acceleration' 'sprint_speed' 'agility' 'reactions' 'balance'\n",
      " 'shot_power' 'jumping' 'stamina' 'strength' 'long_shots' 'aggression'\n",
      " 'interceptions' 'positioning' 'vision' 'penalties' 'marking'\n",
      " 'standing_tackle' 'sliding_tackle' 'gk_diving' 'gk_handling' 'gk_kicking'\n",
      " 'gk_positioning' 'gk_reflexes'] \t (183978, 42)\n"
     ]
    }
   ],
   "source": [
    "# explore the columns in player_attributes table\n",
    "print(f'{player_attributes.columns.values} \\t {player_attributes.shape}')"
   ]
  },
  {
   "cell_type": "code",
   "execution_count": 138,
   "metadata": {},
   "outputs": [
    {
     "name": "stdout",
     "output_type": "stream",
     "text": [
      "['id' 'team_api_id' 'team_fifa_api_id' 'team_long_name' 'team_short_name'] \t (299, 5)\n"
     ]
    }
   ],
   "source": [
    "# explore the columns in teams table\n",
    "print(f'{teams.columns.values} \\t {teams.shape}')"
   ]
  },
  {
   "cell_type": "code",
   "execution_count": 139,
   "metadata": {},
   "outputs": [
    {
     "name": "stdout",
     "output_type": "stream",
     "text": [
      "['id' 'team_fifa_api_id' 'team_api_id' 'date' 'buildUpPlaySpeed'\n",
      " 'buildUpPlaySpeedClass' 'buildUpPlayDribbling'\n",
      " 'buildUpPlayDribblingClass' 'buildUpPlayPassing'\n",
      " 'buildUpPlayPassingClass' 'buildUpPlayPositioningClass'\n",
      " 'chanceCreationPassing' 'chanceCreationPassingClass'\n",
      " 'chanceCreationCrossing' 'chanceCreationCrossingClass'\n",
      " 'chanceCreationShooting' 'chanceCreationShootingClass'\n",
      " 'chanceCreationPositioningClass' 'defencePressure' 'defencePressureClass'\n",
      " 'defenceAggression' 'defenceAggressionClass' 'defenceTeamWidth'\n",
      " 'defenceTeamWidthClass' 'defenceDefenderLineClass'] \t (1458, 25)\n"
     ]
    }
   ],
   "source": [
    "# explore the columns in team_attributes table\n",
    "print(f'{team_attributes.columns.values} \\t {team_attributes.shape}')"
   ]
  },
  {
   "cell_type": "code",
   "execution_count": 140,
   "metadata": {},
   "outputs": [],
   "source": [
    "def get_match_outcome(df: pd.DataFrame):\n",
    "    \"\"\"\n",
    "    This function takes a dataframe and returns a dataframe with a new column\n",
    "    called 'match_outcome' which is the outcome of the match.\n",
    "\n",
    "    Roadmap\n",
    "    -------\n",
    "    1. Create a new column called 'match_outcome' and set it to 0\n",
    "    2. Set the value of 'match_outcome' to 1 if the home_team_goal is greater than the away_team_goal\n",
    "    3. Set the value of 'match_outcome' to -1 if the home_team_goal is less than the away_team_goal\n",
    "    4. If the home_team_goal is equal to the away_team_goal or there is no goal scored, the value of 'match_outcome' is already 0\n",
    "\n",
    "    Parameters\n",
    "    ----------\n",
    "    df : pd.DataFrame\n",
    "        The dataframe containing the match data\n",
    "        \n",
    "    Returns\n",
    "    -------\n",
    "    pd.DataFrame\n",
    "        The dataframe with the new column 'match_outcome'\n",
    "    \"\"\"\n",
    "    # create a new column called 'match_outcome' and set it to 0\n",
    "    # set the value of 'match_outcome' to 1 if the home_team_goal is greater than the away_team_goal\n",
    "    # set the value of 'match_outcome' to -1 if the home_team_goal is less than the away_team_goal\n",
    "    if df['home_team_goal'] > df['away_team_goal']:\n",
    "        df['match_outcome'] = 1\n",
    "    elif df['home_team_goal'] < df['away_team_goal']:\n",
    "        df['match_outcome'] = -1\n",
    "    else:\n",
    "        df['match_outcome'] = 0\n",
    "    # if the home_team_goal is equal to the away_team_goal or there is no goal scored, the value of 'match_outcome' is already 0\n",
    "    return df['match_outcome']"
   ]
  },
  {
   "cell_type": "code",
   "execution_count": 141,
   "metadata": {},
   "outputs": [],
   "source": [
    "def get_player_features(df: pd.DataFrame, player_attributes: pd.DataFrame):\n",
    "    \"\"\"\n",
    "    This function takes a dataframe row and a dataframe with player attributes \n",
    "    and returns a dataframe with the player features.\n",
    "\n",
    "    Roadmap\n",
    "    -------\n",
    "    1. Get the match id, home team id, away team id, league id and date\n",
    "    2. Get the result of the match\n",
    "    3. Create an empty dataframe to store the player features\n",
    "    4. For each player in the home team, get the player attributes for the last match\n",
    "    5. For each player in the away team, get the player attributes for the last match\n",
    "    6. Return the dataframe with the player features\n",
    "\n",
    "    Parameters\n",
    "    ----------\n",
    "    df : pd.DataFrame\n",
    "        A dataframe row with the match information\n",
    "    player_attributes : pd.DataFrame\n",
    "        A dataframe with the player attributes\n",
    "\n",
    "    Returns\n",
    "    -------\n",
    "    pd.DataFrame\n",
    "        A dataframe with the player features\n",
    "    \"\"\"\n",
    "    # get the match id, home team id, away team id, league id and date\n",
    "    match_id = df['match_api_id']\n",
    "    home_team_id = df['home_team_api_id']\n",
    "    away_team_id = df['away_team_api_id']\n",
    "    date = df['date']\n",
    "    # get the result of the match\n",
    "    match_outcome = get_match_outcome(df)\n",
    "\n",
    "    # create an empty dataframe to store the player features\n",
    "    features = pd.DataFrame()\n",
    "    # for each player in the home team, get the player attributes for the last match\n",
    "    for i in range(1, 2):\n",
    "        # get the player id\n",
    "        player_id = df[f'home_player_{i}']\n",
    "        # get the player attributes for the last match\n",
    "        attributes = player_attributes[player_attributes.player_api_id == player_id]\n",
    "        current_attributes = attributes[attributes.date < date].sort_values(by='date', ascending=False)[:1]\n",
    "\n",
    "        if not current_attributes.empty:\n",
    "            # add the player attributes to the dataframe with suffix starting with 'home_player_{i}_'\n",
    "            for col in current_attributes.columns:\n",
    "                if col not in ['id', 'player_fifa_api_id', 'player_api_id', 'date']:\n",
    "                    name = f'home_player_{i}_{col}'\n",
    "                    value = current_attributes[col].values[0]\n",
    "                    features.loc[0, name] = value\n",
    "        else:\n",
    "            for col in current_attributes.columns:\n",
    "                if col not in ['id', 'player_fifa_api_id', 'player_api_id', 'date']:\n",
    "                    name = f'home_player_{i}_{col}'\n",
    "                    features.loc[0, name] = np.nan\n",
    "    # for each player in the away team, get the player attributes for the last match\n",
    "    for i in range(1, 2):\n",
    "        # get the player id\n",
    "        player_id = df[f'away_player_{i}']\n",
    "        # get the player attributes for the last match\n",
    "        attributes = player_attributes[player_attributes.player_api_id == player_id]\n",
    "        current_attributes = attributes[attributes.date < date].sort_values(by='date', ascending=False)[:1]\n",
    "        if not current_attributes.empty:\n",
    "            # add the player attributes to the dataframe with suffix starting with 'away_player_{i}_'\n",
    "            for col in current_attributes.columns:\n",
    "                if col not in ['id', 'player_fifa_api_id', 'player_api_id', 'date']:\n",
    "                    name = f'away_player_{i}_{col}'\n",
    "                    value = current_attributes[col].values[0]\n",
    "                    features.loc[0, name] = value\n",
    "        else:\n",
    "            for col in current_attributes.columns:\n",
    "                if col not in ['id', 'player_fifa_api_id', 'player_api_id', 'date']:\n",
    "                    name = f'away_player_{i}_{col}'\n",
    "                    features.loc[0, name] = np.nan\n",
    "\n",
    "    # collect all the attributes in a dataframe with the match id, home team id, away team id, league id, date and match outcome\n",
    "    features.loc[0, 'match_api_id'] = match_id\n",
    "    features.loc[0, 'home_team_api_id'] = home_team_id\n",
    "    features.loc[0, 'away_team_api_id'] = away_team_id\n",
    "    features.loc[0, 'league_id'] = df['league_id']\n",
    "    features.loc[0, 'date'] = date\n",
    "    features.loc[0, 'match_outcome'] = match_outcome\n",
    "\n",
    "    features.reset_index(drop=True, inplace=True)\n",
    "\n",
    "    return features.iloc[0]"
   ]
  },
  {
   "cell_type": "code",
   "execution_count": 142,
   "metadata": {},
   "outputs": [],
   "source": [
    "def get_team_features(df: pd.DataFrame, team_attributes: pd.DataFrame):\n",
    "    \"\"\"\n",
    "    This function takes a dataframe row and a dataframe with team attributes \n",
    "    and returns a dataframe with the team features.\n",
    "\n",
    "    Roadmap\n",
    "    -------\n",
    "    1. Get the match id, home team id, away team id, league id and date\n",
    "    2. Get the result of the match\n",
    "    3. Create an empty dataframe to store the team features\n",
    "    4. Get the home team attributes for the last match\n",
    "    5. Get the away team attributes for the last match\n",
    "    6. Return the dataframe with the team features\n",
    "    \n",
    "    Parameters\n",
    "    ----------\n",
    "    df : pd.DataFrame\n",
    "        A dataframe row with the match information\n",
    "    team_attributes : pd.DataFrame\n",
    "        A dataframe with the team attributes\n",
    "\n",
    "    Returns\n",
    "    -------\n",
    "    pd.DataFrame\n",
    "        A dataframe with the team features\n",
    "    \"\"\"\n",
    "    # get the match id, home team id, away team id, league id and date\n",
    "    match_id = df['match_api_id']\n",
    "    home_team_id = df['home_team_api_id']\n",
    "    away_team_id = df['away_team_api_id']\n",
    "    league_id = df['league_id']\n",
    "    date = df['date']\n",
    "\n",
    "    # get the result of the match\n",
    "    match_outcome = get_match_outcome(df)\n",
    "\n",
    "    # create an empty dataframe to store the team features\n",
    "    features = pd.DataFrame()\n",
    "    # get the home team attributes for the last match\n",
    "    home_attributes = team_attributes[team_attributes.team_api_id == home_team_id]\n",
    "    home_current_attributes = home_attributes[home_attributes.date < date].sort_values(by='date', ascending=False)[:1]\n",
    "    if not home_current_attributes.empty:\n",
    "        # add the team attributes to the dataframe with suffix starting with 'home_team_'\n",
    "        for col in home_current_attributes.columns:\n",
    "            if col not in ['id', 'team_fifa_api_id', 'team_api_id', 'date']:\n",
    "                name = f'home_team_{col}'\n",
    "                value = home_current_attributes[col].values[0]\n",
    "                features.loc[0, name] = value\n",
    "    else:\n",
    "        for col in home_current_attributes.columns:\n",
    "            if col not in ['id', 'team_fifa_api_id', 'team_api_id', 'date']:\n",
    "                name = f'home_team_{col}'\n",
    "                features.loc[0, name] = np.nan\n",
    "\n",
    "    # get the away team attributes for the last match\n",
    "    away_attributes = team_attributes[team_attributes.team_api_id == away_team_id]\n",
    "    away_current_attributes = away_attributes[away_attributes.date < date].sort_values(by='date', ascending=False)[:1]\n",
    "    if not away_current_attributes.empty:\n",
    "        # add the team attributes to the dataframe with suffix starting with 'away_team_'\n",
    "        for col in away_current_attributes.columns:\n",
    "            if col not in ['id', 'team_fifa_api_id', 'team_api_id', 'date']:\n",
    "                name = f'away_team_{col}'\n",
    "                value = away_current_attributes[col].values[0]\n",
    "                features.loc[0, name] = value\n",
    "    else:\n",
    "        for col in away_current_attributes.columns:\n",
    "            if col not in ['id', 'team_fifa_api_id', 'team_api_id', 'date']:\n",
    "                name = f'away_team_{col}'\n",
    "                features.loc[0, name] = np.nan\n",
    "\n",
    "    # collect all the attributes in a dataframe with the match id, home team id, away team id, league id, date and match outcome\n",
    "    features.loc[0, 'match_api_id'] = match_id\n",
    "    features.loc[0, 'home_team_api_id'] = home_team_id\n",
    "    features.loc[0, 'away_team_api_id'] = away_team_id\n",
    "    features.loc[0, 'league_id'] = league_id\n",
    "    features.loc[0, 'date'] = date\n",
    "    features.loc[0, 'match_outcome'] = match_outcome\n",
    "\n",
    "    features.reset_index(drop=True, inplace=True)\n",
    "    \n",
    "    return features.iloc[0]"
   ]
  },
  {
   "cell_type": "code",
   "execution_count": 143,
   "metadata": {},
   "outputs": [],
   "source": [
    "def get_odds_features(df: pd.DataFrame):\n",
    "    \"\"\"\n",
    "    This function takes a dataframe row and returns a dataframe with the odds features.\n",
    "\n",
    "    Roadmap\n",
    "    -------\n",
    "    1. Get the match id, home team id, away team id, league id and date.\n",
    "    2. Get the result of the match.\n",
    "    3. Create an empty dataframe to store the odds features.\n",
    "    4. Add the odds attributes to the dataframe.\n",
    "    5. Collect all the attributes in a dataframe with the match id, home team id, away team id, league id, date and match outcome.\n",
    "    6. Return the dataframe.\n",
    "\n",
    "    Parameters\n",
    "    ----------\n",
    "    df : pd.DataFrame\n",
    "        A dataframe row with the match details.\n",
    "\n",
    "    Returns\n",
    "    -------\n",
    "    pd.DataFrame\n",
    "        A dataframe with the odds features.\n",
    "    \"\"\"\n",
    "    # get the match id, home team id, away team id, league id and date\n",
    "    match_id = df['match_api_id']\n",
    "    home_team_id = df['home_team_api_id']\n",
    "    away_team_id = df['away_team_api_id']\n",
    "    league_id = df['league_id']\n",
    "    date = df['date']\n",
    "\n",
    "    # get the result of the match\n",
    "    match_outcome = get_match_outcome(df)\n",
    "\n",
    "    # create an empty dataframe to store the odds features\n",
    "    features = pd.DataFrame()\n",
    "    # add the odds attributes to the dataframe\n",
    "    for col in df.index:\n",
    "        if col.startswith('B365') or col.startswith('BW') or col.startswith('IW') or col.startswith('LB') or col.startswith('PS') or col.startswith('WH') or col.startswith('SJ') or col.startswith('VC') or col.startswith('GB') or col.startswith('BS'):\n",
    "            name = col\n",
    "            value = df[col]\n",
    "            features.loc[0, name] = value\n",
    "\n",
    "    # collect all the attributes in a dataframe with the match id, home team id, away team id, league id, date and match outcome\n",
    "    features.loc[0, 'match_api_id'] = match_id\n",
    "    features.loc[0, 'home_team_api_id'] = home_team_id\n",
    "    features.loc[0, 'away_team_api_id'] = away_team_id\n",
    "    features.loc[0, 'league_id'] = league_id\n",
    "    features.loc[0, 'date'] = date\n",
    "    features.loc[0, 'match_outcome'] = match_outcome\n",
    "\n",
    "    features.reset_index(drop=True, inplace=True)\n",
    "\n",
    "    return features.iloc[0]"
   ]
  },
  {
   "cell_type": "code",
   "execution_count": 144,
   "metadata": {},
   "outputs": [
    {
     "data": {
      "text/plain": [
       "(520, 115)"
      ]
     },
     "execution_count": 144,
     "metadata": {},
     "output_type": "execute_result"
    }
   ],
   "source": [
    "# take only 1% rows of data for run time purposes\n",
    "matches = matches.sample(frac=run, random_state=Seed)\n",
    "matches.shape"
   ]
  },
  {
   "cell_type": "code",
   "execution_count": 145,
   "metadata": {},
   "outputs": [
    {
     "name": "stdout",
     "output_type": "stream",
     "text": [
      "<class 'pandas.core.frame.DataFrame'>\n",
      "Int64Index: 520 entries, 13049 to 14767\n",
      "Data columns (total 36 columns):\n",
      " #   Column            Non-Null Count  Dtype  \n",
      "---  ------            --------------  -----  \n",
      " 0   B365H             457 non-null    float64\n",
      " 1   B365D             457 non-null    float64\n",
      " 2   B365A             457 non-null    float64\n",
      " 3   BWH               457 non-null    float64\n",
      " 4   BWD               457 non-null    float64\n",
      " 5   BWA               457 non-null    float64\n",
      " 6   IWH               456 non-null    float64\n",
      " 7   IWD               456 non-null    float64\n",
      " 8   IWA               456 non-null    float64\n",
      " 9   LBH               455 non-null    float64\n",
      " 10  LBD               455 non-null    float64\n",
      " 11  LBA               455 non-null    float64\n",
      " 12  PSH               227 non-null    float64\n",
      " 13  PSD               227 non-null    float64\n",
      " 14  PSA               227 non-null    float64\n",
      " 15  WHH               456 non-null    float64\n",
      " 16  WHD               456 non-null    float64\n",
      " 17  WHA               456 non-null    float64\n",
      " 18  SJH               344 non-null    float64\n",
      " 19  SJD               344 non-null    float64\n",
      " 20  SJA               344 non-null    float64\n",
      " 21  VCH               457 non-null    float64\n",
      " 22  VCD               457 non-null    float64\n",
      " 23  VCA               457 non-null    float64\n",
      " 24  GBH               284 non-null    float64\n",
      " 25  GBD               284 non-null    float64\n",
      " 26  GBA               284 non-null    float64\n",
      " 27  BSH               284 non-null    float64\n",
      " 28  BSD               284 non-null    float64\n",
      " 29  BSA               284 non-null    float64\n",
      " 30  match_api_id      520 non-null    float64\n",
      " 31  home_team_api_id  520 non-null    float64\n",
      " 32  away_team_api_id  520 non-null    float64\n",
      " 33  league_id         520 non-null    float64\n",
      " 34  date              520 non-null    object \n",
      " 35  match_outcome     520 non-null    float64\n",
      "dtypes: float64(35), object(1)\n",
      "memory usage: 150.3+ KB\n"
     ]
    }
   ],
   "source": [
    "# get betting odds for the matches\n",
    "mf_betting = matches.apply(get_odds_features, axis=1)\n",
    "mf_betting.info()"
   ]
  },
  {
   "cell_type": "code",
   "execution_count": 146,
   "metadata": {},
   "outputs": [
    {
     "name": "stdout",
     "output_type": "stream",
     "text": [
      "<class 'pandas.core.frame.DataFrame'>\n",
      "Int64Index: 520 entries, 13049 to 14767\n",
      "Data columns (total 82 columns):\n",
      " #   Column                             Non-Null Count  Dtype  \n",
      "---  ------                             --------------  -----  \n",
      " 0   home_player_1_overall_rating       500 non-null    float64\n",
      " 1   home_player_1_potential            500 non-null    float64\n",
      " 2   home_player_1_preferred_foot       500 non-null    object \n",
      " 3   home_player_1_attacking_work_rate  493 non-null    object \n",
      " 4   home_player_1_defensive_work_rate  500 non-null    object \n",
      " 5   home_player_1_crossing             500 non-null    float64\n",
      " 6   home_player_1_finishing            500 non-null    float64\n",
      " 7   home_player_1_heading_accuracy     500 non-null    float64\n",
      " 8   home_player_1_short_passing        500 non-null    float64\n",
      " 9   home_player_1_volleys              495 non-null    float64\n",
      " 10  home_player_1_dribbling            500 non-null    float64\n",
      " 11  home_player_1_curve                495 non-null    float64\n",
      " 12  home_player_1_free_kick_accuracy   500 non-null    float64\n",
      " 13  home_player_1_long_passing         500 non-null    float64\n",
      " 14  home_player_1_ball_control         500 non-null    float64\n",
      " 15  home_player_1_acceleration         500 non-null    float64\n",
      " 16  home_player_1_sprint_speed         500 non-null    float64\n",
      " 17  home_player_1_agility              495 non-null    float64\n",
      " 18  home_player_1_reactions            500 non-null    float64\n",
      " 19  home_player_1_balance              495 non-null    float64\n",
      " 20  home_player_1_shot_power           500 non-null    float64\n",
      " 21  home_player_1_jumping              495 non-null    float64\n",
      " 22  home_player_1_stamina              500 non-null    float64\n",
      " 23  home_player_1_strength             500 non-null    float64\n",
      " 24  home_player_1_long_shots           500 non-null    float64\n",
      " 25  home_player_1_aggression           500 non-null    float64\n",
      " 26  home_player_1_interceptions        500 non-null    float64\n",
      " 27  home_player_1_positioning          500 non-null    float64\n",
      " 28  home_player_1_vision               495 non-null    float64\n",
      " 29  home_player_1_penalties            500 non-null    float64\n",
      " 30  home_player_1_marking              500 non-null    float64\n",
      " 31  home_player_1_standing_tackle      500 non-null    float64\n",
      " 32  home_player_1_sliding_tackle       495 non-null    float64\n",
      " 33  home_player_1_gk_diving            500 non-null    float64\n",
      " 34  home_player_1_gk_handling          500 non-null    float64\n",
      " 35  home_player_1_gk_kicking           500 non-null    float64\n",
      " 36  home_player_1_gk_positioning       500 non-null    float64\n",
      " 37  home_player_1_gk_reflexes          500 non-null    float64\n",
      " 38  away_player_1_overall_rating       503 non-null    float64\n",
      " 39  away_player_1_potential            503 non-null    float64\n",
      " 40  away_player_1_preferred_foot       503 non-null    object \n",
      " 41  away_player_1_attacking_work_rate  494 non-null    object \n",
      " 42  away_player_1_defensive_work_rate  503 non-null    object \n",
      " 43  away_player_1_crossing             503 non-null    float64\n",
      " 44  away_player_1_finishing            503 non-null    float64\n",
      " 45  away_player_1_heading_accuracy     503 non-null    float64\n",
      " 46  away_player_1_short_passing        503 non-null    float64\n",
      " 47  away_player_1_volleys              498 non-null    float64\n",
      " 48  away_player_1_dribbling            503 non-null    float64\n",
      " 49  away_player_1_curve                498 non-null    float64\n",
      " 50  away_player_1_free_kick_accuracy   503 non-null    float64\n",
      " 51  away_player_1_long_passing         503 non-null    float64\n",
      " 52  away_player_1_ball_control         503 non-null    float64\n",
      " 53  away_player_1_acceleration         503 non-null    float64\n",
      " 54  away_player_1_sprint_speed         503 non-null    float64\n",
      " 55  away_player_1_agility              498 non-null    float64\n",
      " 56  away_player_1_reactions            503 non-null    float64\n",
      " 57  away_player_1_balance              498 non-null    float64\n",
      " 58  away_player_1_shot_power           503 non-null    float64\n",
      " 59  away_player_1_jumping              498 non-null    float64\n",
      " 60  away_player_1_stamina              503 non-null    float64\n",
      " 61  away_player_1_strength             503 non-null    float64\n",
      " 62  away_player_1_long_shots           503 non-null    float64\n",
      " 63  away_player_1_aggression           503 non-null    float64\n",
      " 64  away_player_1_interceptions        503 non-null    float64\n",
      " 65  away_player_1_positioning          503 non-null    float64\n",
      " 66  away_player_1_vision               498 non-null    float64\n",
      " 67  away_player_1_penalties            503 non-null    float64\n",
      " 68  away_player_1_marking              503 non-null    float64\n",
      " 69  away_player_1_standing_tackle      503 non-null    float64\n",
      " 70  away_player_1_sliding_tackle       498 non-null    float64\n",
      " 71  away_player_1_gk_diving            503 non-null    float64\n",
      " 72  away_player_1_gk_handling          503 non-null    float64\n",
      " 73  away_player_1_gk_kicking           503 non-null    float64\n",
      " 74  away_player_1_gk_positioning       503 non-null    float64\n",
      " 75  away_player_1_gk_reflexes          503 non-null    float64\n",
      " 76  match_api_id                       520 non-null    float64\n",
      " 77  home_team_api_id                   520 non-null    float64\n",
      " 78  away_team_api_id                   520 non-null    float64\n",
      " 79  league_id                          520 non-null    float64\n",
      " 80  date                               520 non-null    object \n",
      " 81  match_outcome                      520 non-null    float64\n",
      "dtypes: float64(75), object(7)\n",
      "memory usage: 337.2+ KB\n"
     ]
    }
   ],
   "source": [
    "# get player attributes for the matches\n",
    "mf_player = matches.apply(get_player_features, axis=1, args=(player_attributes,))\n",
    "mf_player.info()"
   ]
  },
  {
   "cell_type": "code",
   "execution_count": 147,
   "metadata": {},
   "outputs": [
    {
     "name": "stdout",
     "output_type": "stream",
     "text": [
      "<class 'pandas.core.frame.DataFrame'>\n",
      "Int64Index: 520 entries, 13049 to 14767\n",
      "Data columns (total 48 columns):\n",
      " #   Column                                    Non-Null Count  Dtype  \n",
      "---  ------                                    --------------  -----  \n",
      " 0   home_team_buildUpPlaySpeed                408 non-null    float64\n",
      " 1   home_team_buildUpPlaySpeedClass           408 non-null    object \n",
      " 2   home_team_buildUpPlayDribbling            116 non-null    float64\n",
      " 3   home_team_buildUpPlayDribblingClass       408 non-null    object \n",
      " 4   home_team_buildUpPlayPassing              408 non-null    float64\n",
      " 5   home_team_buildUpPlayPassingClass         408 non-null    object \n",
      " 6   home_team_buildUpPlayPositioningClass     408 non-null    object \n",
      " 7   home_team_chanceCreationPassing           408 non-null    float64\n",
      " 8   home_team_chanceCreationPassingClass      408 non-null    object \n",
      " 9   home_team_chanceCreationCrossing          408 non-null    float64\n",
      " 10  home_team_chanceCreationCrossingClass     408 non-null    object \n",
      " 11  home_team_chanceCreationShooting          408 non-null    float64\n",
      " 12  home_team_chanceCreationShootingClass     408 non-null    object \n",
      " 13  home_team_chanceCreationPositioningClass  408 non-null    object \n",
      " 14  home_team_defencePressure                 408 non-null    float64\n",
      " 15  home_team_defencePressureClass            408 non-null    object \n",
      " 16  home_team_defenceAggression               408 non-null    float64\n",
      " 17  home_team_defenceAggressionClass          408 non-null    object \n",
      " 18  home_team_defenceTeamWidth                408 non-null    float64\n",
      " 19  home_team_defenceTeamWidthClass           408 non-null    object \n",
      " 20  home_team_defenceDefenderLineClass        408 non-null    object \n",
      " 21  away_team_buildUpPlaySpeed                413 non-null    float64\n",
      " 22  away_team_buildUpPlaySpeedClass           413 non-null    object \n",
      " 23  away_team_buildUpPlayDribbling            117 non-null    float64\n",
      " 24  away_team_buildUpPlayDribblingClass       413 non-null    object \n",
      " 25  away_team_buildUpPlayPassing              413 non-null    float64\n",
      " 26  away_team_buildUpPlayPassingClass         413 non-null    object \n",
      " 27  away_team_buildUpPlayPositioningClass     413 non-null    object \n",
      " 28  away_team_chanceCreationPassing           413 non-null    float64\n",
      " 29  away_team_chanceCreationPassingClass      413 non-null    object \n",
      " 30  away_team_chanceCreationCrossing          413 non-null    float64\n",
      " 31  away_team_chanceCreationCrossingClass     413 non-null    object \n",
      " 32  away_team_chanceCreationShooting          413 non-null    float64\n",
      " 33  away_team_chanceCreationShootingClass     413 non-null    object \n",
      " 34  away_team_chanceCreationPositioningClass  413 non-null    object \n",
      " 35  away_team_defencePressure                 413 non-null    float64\n",
      " 36  away_team_defencePressureClass            413 non-null    object \n",
      " 37  away_team_defenceAggression               413 non-null    float64\n",
      " 38  away_team_defenceAggressionClass          413 non-null    object \n",
      " 39  away_team_defenceTeamWidth                413 non-null    float64\n",
      " 40  away_team_defenceTeamWidthClass           413 non-null    object \n",
      " 41  away_team_defenceDefenderLineClass        413 non-null    object \n",
      " 42  match_api_id                              520 non-null    float64\n",
      " 43  home_team_api_id                          520 non-null    float64\n",
      " 44  away_team_api_id                          520 non-null    float64\n",
      " 45  league_id                                 520 non-null    float64\n",
      " 46  date                                      520 non-null    object \n",
      " 47  match_outcome                             520 non-null    float64\n",
      "dtypes: float64(23), object(25)\n",
      "memory usage: 199.1+ KB\n"
     ]
    }
   ],
   "source": [
    "# get team attributes for the matches\n",
    "mf_team = matches.apply(get_team_features, axis=1, args=(team_attributes,))\n",
    "mf_team.info()"
   ]
  },
  {
   "cell_type": "markdown",
   "metadata": {},
   "source": [
    "### Data Cleaning"
   ]
  },
  {
   "cell_type": "markdown",
   "metadata": {},
   "source": [
    "Since we have already removed the irrelevant columns in the previous section, we will only handle the missing values in this section."
   ]
  },
  {
   "cell_type": "code",
   "execution_count": 148,
   "metadata": {},
   "outputs": [
    {
     "name": "stdout",
     "output_type": "stream",
     "text": [
      "Missing values in betting odds dataframe: 21.201923076923077%\n"
     ]
    },
    {
     "data": {
      "text/plain": [
       "PSH    293\n",
       "PSA    293\n",
       "PSD    293\n",
       "GBH    236\n",
       "BSA    236\n",
       "BSD    236\n",
       "BSH    236\n",
       "GBA    236\n",
       "GBD    236\n",
       "SJA    176\n",
       "dtype: int64"
      ]
     },
     "execution_count": 148,
     "metadata": {},
     "output_type": "execute_result"
    }
   ],
   "source": [
    "# check the distribution of the missing values in the betting odds dataframe\n",
    "print('Missing values in betting odds dataframe: ' + str(mf_betting.isnull().sum().sum() / mf_betting.size * 100) + '%')\n",
    "mf_betting.isnull().sum().sort_values(ascending=False)[:10]"
   ]
  },
  {
   "cell_type": "code",
   "execution_count": 149,
   "metadata": {},
   "outputs": [
    {
     "name": "stdout",
     "output_type": "stream",
     "text": [
      "Missing values in player attributes dataframe: 3.4990619136960603%\n"
     ]
    },
    {
     "data": {
      "text/plain": [
       "home_player_1_attacking_work_rate    27\n",
       "away_player_1_attacking_work_rate    26\n",
       "home_player_1_volleys                25\n",
       "home_player_1_jumping                25\n",
       "home_player_1_sliding_tackle         25\n",
       "home_player_1_balance                25\n",
       "home_player_1_agility                25\n",
       "home_player_1_curve                  25\n",
       "home_player_1_vision                 25\n",
       "away_player_1_curve                  22\n",
       "dtype: int64"
      ]
     },
     "execution_count": 149,
     "metadata": {},
     "output_type": "execute_result"
    }
   ],
   "source": [
    "# check the distribution of the missing values in the player attributes dataframe\n",
    "print('Missing values in player attributes dataframe: ' + str(mf_player.isnull().sum().sum() / mf_player.size * 100) + '%')\n",
    "mf_player.isnull().sum().sort_values(ascending=False)[:10]"
   ]
  },
  {
   "cell_type": "code",
   "execution_count": 150,
   "metadata": {},
   "outputs": [
    {
     "name": "stdout",
     "output_type": "stream",
     "text": [
      "Missing values in team attributes dataframe: 20.78125%\n"
     ]
    },
    {
     "data": {
      "text/plain": [
       "home_team_buildUpPlayDribbling           404\n",
       "away_team_buildUpPlayDribbling           403\n",
       "home_team_buildUpPlaySpeed               112\n",
       "home_team_chanceCreationShootingClass    112\n",
       "home_team_buildUpPlaySpeedClass          112\n",
       "home_team_defenceDefenderLineClass       112\n",
       "home_team_defenceTeamWidthClass          112\n",
       "home_team_defenceTeamWidth               112\n",
       "home_team_defenceAggressionClass         112\n",
       "home_team_defencePressureClass           112\n",
       "dtype: int64"
      ]
     },
     "execution_count": 150,
     "metadata": {},
     "output_type": "execute_result"
    }
   ],
   "source": [
    "# check the distribution of the missing values in the team attributes dataframe\n",
    "print('Missing values in team attributes dataframe: ' + str(mf_team.isnull().sum().sum() / mf_team.size * 100) + '%')\n",
    "mf_team.isnull().sum().sort_values(ascending=False)[:10]"
   ]
  },
  {
   "cell_type": "markdown",
   "metadata": {},
   "source": [
    "### Data Transformation"
   ]
  },
  {
   "cell_type": "markdown",
   "metadata": {},
   "source": [
    "### Data Integration"
   ]
  },
  {
   "cell_type": "markdown",
   "metadata": {},
   "source": [
    "### Feature Engineering"
   ]
  },
  {
   "cell_type": "markdown",
   "metadata": {},
   "source": [
    "## Data Analysis"
   ]
  },
  {
   "cell_type": "markdown",
   "metadata": {},
   "source": [
    "In this section, we will perform initial exploration of the data to gain a better understanding of the variables and their distributions. \n",
    "This may include visualizing the data and calculating summary statistics."
   ]
  },
  {
   "cell_type": "markdown",
   "metadata": {},
   "source": [
    "### Exploratory Data Analysis"
   ]
  },
  {
   "cell_type": "markdown",
   "metadata": {},
   "source": [
    "### Descriptive Statistics"
   ]
  },
  {
   "cell_type": "markdown",
   "metadata": {},
   "source": [
    "### Data Visualization"
   ]
  },
  {
   "cell_type": "markdown",
   "metadata": {},
   "source": [
    "### Identifying Patterns and Insights"
   ]
  },
  {
   "cell_type": "markdown",
   "metadata": {},
   "source": [
    "## Prediction"
   ]
  },
  {
   "cell_type": "markdown",
   "metadata": {},
   "source": [
    "In this section, we will use machine learning techniques to predict the match outcome using the team and player attributes. We will compare the performance of different models and evaluate their accuracy."
   ]
  },
  {
   "cell_type": "markdown",
   "metadata": {},
   "source": [
    "### Model Definition"
   ]
  },
  {
   "cell_type": "markdown",
   "metadata": {},
   "source": [
    "In this section, we will define the models that will be used for the prediction. We will use the following models:\n",
    "\n",
    "- Logistic Regression\n",
    "- Decision Tree\n",
    "- Random Forest\n",
    "- Gradient Boosting\n",
    "- Support Vector Machine"
   ]
  },
  {
   "cell_type": "markdown",
   "metadata": {},
   "source": [
    "### Model Training"
   ]
  },
  {
   "cell_type": "markdown",
   "metadata": {},
   "source": [
    "In this section, we will train the models using the training data."
   ]
  },
  {
   "cell_type": "markdown",
   "metadata": {},
   "source": [
    "### Model Testing"
   ]
  },
  {
   "cell_type": "markdown",
   "metadata": {},
   "source": [
    "In this section, we will test the models using the test data."
   ]
  },
  {
   "cell_type": "markdown",
   "metadata": {},
   "source": [
    "### Model Evaluation"
   ]
  },
  {
   "cell_type": "markdown",
   "metadata": {},
   "source": [
    "In this section, we will evaluate the performance of the models using the test data."
   ]
  },
  {
   "cell_type": "markdown",
   "metadata": {},
   "source": [
    "### Model Selection"
   ]
  },
  {
   "cell_type": "markdown",
   "metadata": {},
   "source": [
    "In this section, we will select the best model based on the evaluation results."
   ]
  },
  {
   "cell_type": "markdown",
   "metadata": {},
   "source": [
    "### Model Tuning"
   ]
  },
  {
   "cell_type": "markdown",
   "metadata": {},
   "source": [
    "In this section, we will tune the selected model to improve its performance."
   ]
  },
  {
   "cell_type": "markdown",
   "metadata": {},
   "source": [
    "## Conclusion"
   ]
  },
  {
   "cell_type": "markdown",
   "metadata": {},
   "source": [
    "### Discussion"
   ]
  },
  {
   "cell_type": "markdown",
   "metadata": {},
   "source": [
    "### Limitations"
   ]
  },
  {
   "cell_type": "markdown",
   "metadata": {},
   "source": [
    "### Future Work"
   ]
  }
 ],
 "metadata": {
  "kernelspec": {
   "display_name": "Python 3.10.7 64-bit",
   "language": "python",
   "name": "python3"
  },
  "language_info": {
   "codemirror_mode": {
    "name": "ipython",
    "version": 3
   },
   "file_extension": ".py",
   "mimetype": "text/x-python",
   "name": "python",
   "nbconvert_exporter": "python",
   "pygments_lexer": "ipython3",
   "version": "3.10.7"
  },
  "orig_nbformat": 4,
  "vscode": {
   "interpreter": {
    "hash": "aee8b7b246df8f9039afb4144a1f6fd8d2ca17a180786b69acc140d282b71a49"
   }
  }
 },
 "nbformat": 4,
 "nbformat_minor": 2
}
